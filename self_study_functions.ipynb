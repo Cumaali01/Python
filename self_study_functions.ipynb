{
 "cells": [
  {
   "cell_type": "code",
   "execution_count": 16,
   "metadata": {},
   "outputs": [
    {
     "data": {
      "text/plain": [
       "[4, 3, 2, 1]"
      ]
     },
     "execution_count": 16,
     "metadata": {},
     "output_type": "execute_result"
    }
   ],
   "source": [
    "x = [1,2,3,4]\n",
    "x.reverse()\n",
    "x\n"
   ]
  },
  {
   "cell_type": "code",
   "execution_count": 11,
   "metadata": {},
   "outputs": [
    {
     "data": {
      "text/plain": [
       "[4, 3, 2, 1]"
      ]
     },
     "execution_count": 11,
     "metadata": {},
     "output_type": "execute_result"
    }
   ],
   "source": [
    "x = [1,2,3,4]\n",
    "\n",
    "new_x=[]\n",
    "index=-1\n",
    "while -4<=index <=-1:\n",
    "    new_x.append(x[index])\n",
    "    index-=1\n",
    "new_x"
   ]
  },
  {
   "cell_type": "code",
   "execution_count": 15,
   "metadata": {},
   "outputs": [
    {
     "data": {
      "text/plain": [
       "[4, 3, 2, 1]"
      ]
     },
     "execution_count": 15,
     "metadata": {},
     "output_type": "execute_result"
    }
   ],
   "source": [
    "y = [1,2,3,4]\n",
    "\n",
    "index = -1\n",
    "new_y =[]\n",
    "for i in y:\n",
    "    new_y.append(x[index])\n",
    "    index -=1\n",
    "new_y\n"
   ]
  },
  {
   "cell_type": "code",
   "execution_count": 19,
   "metadata": {},
   "outputs": [
    {
     "data": {
      "text/plain": [
       "'ilaamuC'"
      ]
     },
     "execution_count": 19,
     "metadata": {},
     "output_type": "execute_result"
    }
   ],
   "source": [
    "your_name =input(\"Write your name\")\n",
    "\n",
    "index =-1\n",
    "reversed_name= []\n",
    "for i in your_name:\n",
    "    reversed_name.append(your_name[index])\n",
    "    index-=1\n",
    "\"\".join(reversed_name)"
   ]
  },
  {
   "cell_type": "code",
   "execution_count": 24,
   "metadata": {},
   "outputs": [
    {
     "data": {
      "text/plain": [
       "120"
      ]
     },
     "execution_count": 24,
     "metadata": {},
     "output_type": "execute_result"
    }
   ],
   "source": [
    "# * args\n",
    "def multiply(*numbers):\n",
    "    total =1\n",
    "    for number in numbers:\n",
    "        total *= number\n",
    "\n",
    "    return total\n",
    "multiply(2,3,4,5)"
   ]
  },
  {
   "cell_type": "code",
   "execution_count": 2,
   "metadata": {},
   "outputs": [
    {
     "name": "stdout",
     "output_type": "stream",
     "text": [
      "{'id': 1, 'name': 'John', 'age': 22}\n",
      "John\n",
      "22\n",
      "1\n"
     ]
    }
   ],
   "source": [
    "# **args , key and values... dictionaries\n",
    "def save_user(**user):\n",
    "    print(user)\n",
    "    print(user[\"name\"])\n",
    "    print(user[\"age\"])\n",
    "    print(user[\"id\"])\n",
    "\n",
    "save_user(id=1, name=\"John\", age=22)"
   ]
  },
  {
   "cell_type": "code",
   "execution_count": 39,
   "metadata": {},
   "outputs": [
    {
     "data": {
      "text/plain": [
       "'FizzBuzz'"
      ]
     },
     "execution_count": 39,
     "metadata": {},
     "output_type": "execute_result"
    }
   ],
   "source": [
    "def fizz_buzz(input):\n",
    "    if input % 3 ==0 and input % 5 ==0: # we have to write here first to avoid mistakes!!\n",
    "        result =\"FizzBuzz\"    \n",
    "    elif input % 3 == 0:\n",
    "        result = \"Fizz\"\n",
    "    elif input % 5 == 0:\n",
    "        result = \"Buzz\"\n",
    "    else:\n",
    "        result = input\n",
    "    return result\n",
    "\n",
    "fizz_buzz(15)\n"
   ]
  },
  {
   "cell_type": "code",
   "execution_count": null,
   "metadata": {},
   "outputs": [],
   "source": []
  }
 ],
 "metadata": {
  "kernelspec": {
   "display_name": "Python 3",
   "language": "python",
   "name": "python3"
  },
  "language_info": {
   "codemirror_mode": {
    "name": "ipython",
    "version": 3
   },
   "file_extension": ".py",
   "mimetype": "text/x-python",
   "name": "python",
   "nbconvert_exporter": "python",
   "pygments_lexer": "ipython3",
   "version": "3.11.2"
  },
  "orig_nbformat": 4
 },
 "nbformat": 4,
 "nbformat_minor": 2
}
