{
 "cells": [
  {
   "cell_type": "code",
   "execution_count": 34,
   "id": "1bb85e7d",
   "metadata": {
    "ExecuteTime": {
     "end_time": "2023-04-24T19:18:47.777640Z",
     "start_time": "2023-04-24T19:18:47.759648Z"
    }
   },
   "outputs": [
    {
     "data": {
      "text/plain": [
       "[1, 2, 3, 4, 5, 6, 7, 8, 9, 10]"
      ]
     },
     "execution_count": 34,
     "metadata": {},
     "output_type": "execute_result"
    }
   ],
   "source": [
    "list = [1,2,3,4,5,6,7,8,9,10]\n",
    "list"
   ]
  },
  {
   "cell_type": "code",
   "execution_count": 2,
   "id": "b84135d8",
   "metadata": {
    "ExecuteTime": {
     "end_time": "2023-04-24T18:16:14.454893Z",
     "start_time": "2023-04-24T18:16:14.440899Z"
    }
   },
   "outputs": [
    {
     "name": "stdout",
     "output_type": "stream",
     "text": [
      "[1, 4, 9, 16, 25, 36, 49, 64, 81, 100]\n"
     ]
    }
   ],
   "source": [
    "sqr_list = []\n",
    "for i in list:\n",
    "    sqr_list.append(i**2)\n",
    "print(sqr_list)"
   ]
  },
  {
   "cell_type": "code",
   "execution_count": 3,
   "id": "39fa7c97",
   "metadata": {
    "ExecuteTime": {
     "end_time": "2023-04-24T18:16:59.628649Z",
     "start_time": "2023-04-24T18:16:59.608662Z"
    }
   },
   "outputs": [
    {
     "name": "stdout",
     "output_type": "stream",
     "text": [
      "[1, 4, 9, 16, 25, 36, 49, 64, 81, 100]\n"
     ]
    }
   ],
   "source": [
    "sqr_list = [i**2 for i in list]\n",
    "\n",
    "print(sqr_list)"
   ]
  },
  {
   "cell_type": "code",
   "execution_count": 5,
   "id": "72e5b5ee",
   "metadata": {
    "ExecuteTime": {
     "end_time": "2023-04-24T18:18:34.020669Z",
     "start_time": "2023-04-24T18:18:33.997684Z"
    }
   },
   "outputs": [
    {
     "name": "stdout",
     "output_type": "stream",
     "text": [
      "[2, 4, 6, 8, 10]\n"
     ]
    }
   ],
   "source": [
    "evens= []\n",
    "for i in list:\n",
    "    if i%2 ==0:\n",
    "        evens.append(i)\n",
    "print(evens)"
   ]
  },
  {
   "cell_type": "code",
   "execution_count": 6,
   "id": "8996698a",
   "metadata": {
    "ExecuteTime": {
     "end_time": "2023-04-24T18:20:01.305277Z",
     "start_time": "2023-04-24T18:20:01.278293Z"
    }
   },
   "outputs": [
    {
     "data": {
      "text/plain": [
       "[2, 4, 6, 8, 10]"
      ]
     },
     "execution_count": 6,
     "metadata": {},
     "output_type": "execute_result"
    }
   ],
   "source": [
    "evens = [i for i in list if i%2==0]\n",
    "evens"
   ]
  },
  {
   "cell_type": "code",
   "execution_count": 7,
   "id": "17a519c6",
   "metadata": {
    "ExecuteTime": {
     "end_time": "2023-04-24T18:23:15.268117Z",
     "start_time": "2023-04-24T18:23:15.236127Z"
    }
   },
   "outputs": [
    {
     "data": {
      "text/plain": [
       "[4, 16, 36, 64, 100]"
      ]
     },
     "execution_count": 7,
     "metadata": {},
     "output_type": "execute_result"
    }
   ],
   "source": [
    "[i**2 for i in list if i%2 == 0]"
   ]
  },
  {
   "cell_type": "code",
   "execution_count": 9,
   "id": "84c836aa",
   "metadata": {
    "ExecuteTime": {
     "end_time": "2023-04-24T18:25:01.362420Z",
     "start_time": "2023-04-24T18:25:01.339431Z"
    }
   },
   "outputs": [
    {
     "data": {
      "text/plain": [
       "[49, 81]"
      ]
     },
     "execution_count": 9,
     "metadata": {},
     "output_type": "execute_result"
    }
   ],
   "source": [
    "# bigger than 5 and odds, sqr of them\n",
    "\n",
    "[i**2 for i in list if (i%2) & (i>5)]"
   ]
  },
  {
   "cell_type": "code",
   "execution_count": 10,
   "id": "beab614a",
   "metadata": {
    "ExecuteTime": {
     "end_time": "2023-04-24T18:31:58.464069Z",
     "start_time": "2023-04-24T18:31:58.438091Z"
    }
   },
   "outputs": [
    {
     "data": {
      "text/plain": [
       "['odd', 'even', 'odd', 'even', 'odd', 'even', 'odd', 'even', 'odd', 'even']"
      ]
     },
     "execution_count": 10,
     "metadata": {},
     "output_type": "execute_result"
    }
   ],
   "source": [
    "[\"even\" if i%2 ==0 else \"odd\"   for i in list]"
   ]
  },
  {
   "cell_type": "code",
   "execution_count": null,
   "id": "ee6c227d",
   "metadata": {
    "ExecuteTime": {
     "end_time": "2023-04-24T18:40:52.261260Z",
     "start_time": "2023-04-24T18:40:52.240274Z"
    }
   },
   "outputs": [],
   "source": []
  },
  {
   "cell_type": "code",
   "execution_count": 21,
   "id": "76335e6b",
   "metadata": {
    "ExecuteTime": {
     "end_time": "2023-04-24T18:52:53.418422Z",
     "start_time": "2023-04-24T18:52:53.404434Z"
    }
   },
   "outputs": [
    {
     "data": {
      "text/plain": [
       "[[1, 2, 3], [4, 5, 6], [7, 8, 9]]"
      ]
     },
     "execution_count": 21,
     "metadata": {},
     "output_type": "execute_result"
    }
   ],
   "source": [
    "nested_list = [[1,2,3],[4,5,6],[7,8,9]]\n",
    "nested_list"
   ]
  },
  {
   "cell_type": "code",
   "execution_count": 22,
   "id": "e25a0eec",
   "metadata": {
    "ExecuteTime": {
     "end_time": "2023-04-24T18:52:56.905839Z",
     "start_time": "2023-04-24T18:52:56.897843Z"
    }
   },
   "outputs": [
    {
     "name": "stdout",
     "output_type": "stream",
     "text": [
      "[1, 2, 3]\n",
      "[4, 5, 6]\n",
      "[7, 8, 9]\n"
     ]
    }
   ],
   "source": [
    "flatten_list = []\n",
    "\n",
    "for list in nested_list:\n",
    "    print(list)"
   ]
  },
  {
   "cell_type": "code",
   "execution_count": 23,
   "id": "89692444",
   "metadata": {
    "ExecuteTime": {
     "end_time": "2023-04-24T18:52:59.747340Z",
     "start_time": "2023-04-24T18:52:59.731350Z"
    }
   },
   "outputs": [
    {
     "name": "stdout",
     "output_type": "stream",
     "text": [
      "[1, 2, 3, 4, 5, 6, 7, 8, 9]\n"
     ]
    }
   ],
   "source": [
    "for list in nested_list:\n",
    "    for i in list:\n",
    "        flatten_list.append(i)\n",
    "print(flatten_list)"
   ]
  },
  {
   "cell_type": "code",
   "execution_count": 24,
   "id": "fbe94be5",
   "metadata": {
    "ExecuteTime": {
     "end_time": "2023-04-24T18:53:36.794555Z",
     "start_time": "2023-04-24T18:53:36.780567Z"
    }
   },
   "outputs": [
    {
     "data": {
      "text/plain": [
       "[1, 2, 3, 4, 5, 6, 7, 8, 9]"
      ]
     },
     "execution_count": 24,
     "metadata": {},
     "output_type": "execute_result"
    }
   ],
   "source": [
    "[i for list in nested_list for i in list]"
   ]
  },
  {
   "cell_type": "code",
   "execution_count": 26,
   "id": "82d17270",
   "metadata": {
    "ExecuteTime": {
     "end_time": "2023-04-24T19:02:25.372709Z",
     "start_time": "2023-04-24T19:02:25.358710Z"
    }
   },
   "outputs": [
    {
     "data": {
      "text/plain": [
       "[[1, 2, 3], [4, 5, 6], [7, 8, 9]]"
      ]
     },
     "execution_count": 26,
     "metadata": {},
     "output_type": "execute_result"
    }
   ],
   "source": [
    "nested_list"
   ]
  },
  {
   "cell_type": "code",
   "execution_count": null,
   "id": "8ca1d294",
   "metadata": {},
   "outputs": [],
   "source": []
  },
  {
   "cell_type": "code",
   "execution_count": null,
   "id": "87658eaa",
   "metadata": {},
   "outputs": [],
   "source": [
    "tek_cift=[]\n",
    "for i in nested_list:\n",
    "    temp=[]\n",
    "    for j in liste:\n",
    "        if j%2==0:\n",
    "            temp.append(\"cift\")\n",
    "        else:\n",
    "            temp.append(\"tek\")\n",
    "    tek_cift.append(temp)"
   ]
  },
  {
   "cell_type": "code",
   "execution_count": null,
   "id": "6c23395c",
   "metadata": {},
   "outputs": [],
   "source": [
    "[[\"cift\" if j%2==0 else \"tek\" for j in i] for i in nested_list]"
   ]
  },
  {
   "cell_type": "code",
   "execution_count": 35,
   "id": "a562526f",
   "metadata": {
    "ExecuteTime": {
     "end_time": "2023-04-24T19:18:52.084809Z",
     "start_time": "2023-04-24T19:18:52.060821Z"
    }
   },
   "outputs": [
    {
     "data": {
      "text/plain": [
       "[1, 2, 3, 4, 5, 6, 7, 8, 9, 10]"
      ]
     },
     "execution_count": 35,
     "metadata": {},
     "output_type": "execute_result"
    }
   ],
   "source": [
    "list"
   ]
  },
  {
   "cell_type": "code",
   "execution_count": 36,
   "id": "b6ae3ebf",
   "metadata": {
    "ExecuteTime": {
     "end_time": "2023-04-24T19:19:26.073706Z",
     "start_time": "2023-04-24T19:19:26.054717Z"
    }
   },
   "outputs": [
    {
     "name": "stdout",
     "output_type": "stream",
     "text": [
      "{1: 'odd', 2: 'even', 3: 'odd', 4: 'even', 5: 'odd', 6: 'even', 7: 'odd', 8: 'even', 9: 'odd', 10: 'even'}\n"
     ]
    }
   ],
   "source": [
    "a = {}\n",
    "for i in list:\n",
    "    if i%2:\n",
    "        a[i] = \"odd\"\n",
    "    else:\n",
    "        a[i] = \"even\"\n",
    "print(a)"
   ]
  },
  {
   "cell_type": "code",
   "execution_count": 46,
   "id": "399985da",
   "metadata": {
    "ExecuteTime": {
     "end_time": "2023-04-24T19:21:55.675376Z",
     "start_time": "2023-04-24T19:21:55.654390Z"
    }
   },
   "outputs": [
    {
     "name": "stdout",
     "output_type": "stream",
     "text": [
      "{1: 'odd', 2: 'even', 3: 'odd', 4: 'even', 5: 'odd', 6: 'even', 7: 'odd', 8: 'even', 9: 'odd', 10: 'even'}\n"
     ]
    }
   ],
   "source": [
    "a = {i: \"odd\" if i%2 else \"even\" for i in list}\n",
    "print(a)"
   ]
  },
  {
   "cell_type": "code",
   "execution_count": null,
   "id": "b6ea4f30",
   "metadata": {},
   "outputs": [],
   "source": []
  }
 ],
 "metadata": {
  "hide_input": false,
  "kernelspec": {
   "display_name": "Python 3 (ipykernel)",
   "language": "python",
   "name": "python3"
  },
  "language_info": {
   "codemirror_mode": {
    "name": "ipython",
    "version": 3
   },
   "file_extension": ".py",
   "mimetype": "text/x-python",
   "name": "python",
   "nbconvert_exporter": "python",
   "pygments_lexer": "ipython3",
   "version": "3.10.9"
  },
  "nbTranslate": {
   "displayLangs": [
    "*"
   ],
   "hotkey": "alt-t",
   "langInMainMenu": true,
   "sourceLang": "en",
   "targetLang": "fr",
   "useGoogleTranslate": true
  },
  "toc": {
   "base_numbering": 1,
   "nav_menu": {},
   "number_sections": true,
   "sideBar": true,
   "skip_h1_title": false,
   "title_cell": "Table of Contents",
   "title_sidebar": "Contents",
   "toc_cell": false,
   "toc_position": {},
   "toc_section_display": true,
   "toc_window_display": false
  },
  "varInspector": {
   "cols": {
    "lenName": 16,
    "lenType": 16,
    "lenVar": 40
   },
   "kernels_config": {
    "python": {
     "delete_cmd_postfix": "",
     "delete_cmd_prefix": "del ",
     "library": "var_list.py",
     "varRefreshCmd": "print(var_dic_list())"
    },
    "r": {
     "delete_cmd_postfix": ") ",
     "delete_cmd_prefix": "rm(",
     "library": "var_list.r",
     "varRefreshCmd": "cat(var_dic_list()) "
    }
   },
   "types_to_exclude": [
    "module",
    "function",
    "builtin_function_or_method",
    "instance",
    "_Feature"
   ],
   "window_display": false
  }
 },
 "nbformat": 4,
 "nbformat_minor": 5
}
