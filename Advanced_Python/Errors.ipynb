{
 "cells": [
  {
   "cell_type": "code",
   "execution_count": 2,
   "id": "1770cac9",
   "metadata": {
    "ExecuteTime": {
     "end_time": "2023-04-24T19:33:57.592865Z",
     "start_time": "2023-04-24T19:33:57.489922Z"
    }
   },
   "outputs": [
    {
     "ename": "ZeroDivisionError",
     "evalue": "division by zero",
     "output_type": "error",
     "traceback": [
      "\u001b[1;31m---------------------------------------------------------------------------\u001b[0m",
      "\u001b[1;31mZeroDivisionError\u001b[0m                         Traceback (most recent call last)",
      "Cell \u001b[1;32mIn[2], line 3\u001b[0m\n\u001b[0;32m      1\u001b[0m divided \u001b[38;5;241m=\u001b[39m \u001b[38;5;241m10\u001b[39m\n\u001b[0;32m      2\u001b[0m divider \u001b[38;5;241m=\u001b[39m \u001b[38;5;241m0\u001b[39m\n\u001b[1;32m----> 3\u001b[0m division \u001b[38;5;241m=\u001b[39m \u001b[43mdivided\u001b[49m\u001b[43m \u001b[49m\u001b[38;5;241;43m/\u001b[39;49m\u001b[43m \u001b[49m\u001b[43mdivider\u001b[49m\n\u001b[0;32m      4\u001b[0m \u001b[38;5;28mprint\u001b[39m(division)\n",
      "\u001b[1;31mZeroDivisionError\u001b[0m: division by zero"
     ]
    }
   ],
   "source": [
    "divided = 10\n",
    "divider = 0\n",
    "division = divided / divider\n",
    "print(division)"
   ]
  },
  {
   "cell_type": "code",
   "execution_count": 18,
   "id": "c63f3f43",
   "metadata": {
    "ExecuteTime": {
     "end_time": "2023-04-24T19:50:58.905276Z",
     "start_time": "2023-04-24T19:50:58.887287Z"
    }
   },
   "outputs": [
    {
     "name": "stdout",
     "output_type": "stream",
     "text": [
      "0 cannot be divider\n"
     ]
    }
   ],
   "source": [
    "try:\n",
    "    divided = 10\n",
    "    divider = 0\n",
    "    division = divided / divider\n",
    "\n",
    "except ZeroDivisionError:\n",
    "    print(\"0 cannot be divider\")"
   ]
  },
  {
   "cell_type": "code",
   "execution_count": 20,
   "id": "1fd0ea9b",
   "metadata": {
    "ExecuteTime": {
     "end_time": "2023-04-24T19:51:19.546088Z",
     "start_time": "2023-04-24T19:51:19.468142Z"
    }
   },
   "outputs": [
    {
     "ename": "NameError",
     "evalue": "name 'x' is not defined",
     "output_type": "error",
     "traceback": [
      "\u001b[1;31m---------------------------------------------------------------------------\u001b[0m",
      "\u001b[1;31mNameError\u001b[0m                                 Traceback (most recent call last)",
      "Cell \u001b[1;32mIn[20], line 1\u001b[0m\n\u001b[1;32m----> 1\u001b[0m \u001b[38;5;28mprint\u001b[39m(\u001b[43mx\u001b[49m)\n",
      "\u001b[1;31mNameError\u001b[0m: name 'x' is not defined"
     ]
    }
   ],
   "source": [
    "print(x)"
   ]
  },
  {
   "cell_type": "code",
   "execution_count": 25,
   "id": "bad48ec6",
   "metadata": {
    "ExecuteTime": {
     "end_time": "2023-04-24T20:04:38.767838Z",
     "start_time": "2023-04-24T20:04:38.738855Z"
    }
   },
   "outputs": [
    {
     "name": "stdout",
     "output_type": "stream",
     "text": [
      "0 cannot be divided\n",
      "It continues\n"
     ]
    }
   ],
   "source": [
    "try:\n",
    "    divided = 10\n",
    "    divider = 0\n",
    "    division = divided / divider\n",
    "    x\n",
    "\n",
    "except NameError:\n",
    "    print(\"Unknown variable\")\n",
    "\n",
    "except ZeroDivisionError:\n",
    "    print(\"0 cannot be divided\")\n",
    "\n",
    "print(\"It continues\") #even there is an error the below codes will continue running"
   ]
  },
  {
   "cell_type": "code",
   "execution_count": 26,
   "id": "6e17d533",
   "metadata": {
    "ExecuteTime": {
     "end_time": "2023-04-24T20:07:28.646792Z",
     "start_time": "2023-04-24T20:07:28.550849Z"
    }
   },
   "outputs": [
    {
     "ename": "IndexError",
     "evalue": "string index out of range",
     "output_type": "error",
     "traceback": [
      "\u001b[1;31m---------------------------------------------------------------------------\u001b[0m",
      "\u001b[1;31mIndexError\u001b[0m                                Traceback (most recent call last)",
      "Cell \u001b[1;32mIn[26], line 2\u001b[0m\n\u001b[0;32m      1\u001b[0m name\u001b[38;5;241m=\u001b[39m \u001b[38;5;124m\"\u001b[39m\u001b[38;5;124mJames\u001b[39m\u001b[38;5;124m\"\u001b[39m\n\u001b[1;32m----> 2\u001b[0m \u001b[43mname\u001b[49m\u001b[43m[\u001b[49m\u001b[38;5;241;43m5\u001b[39;49m\u001b[43m]\u001b[49m\n",
      "\u001b[1;31mIndexError\u001b[0m: string index out of range"
     ]
    }
   ],
   "source": [
    "name= \"James\"\n",
    "name[5]"
   ]
  },
  {
   "cell_type": "code",
   "execution_count": 28,
   "id": "3ea73e0d",
   "metadata": {
    "ExecuteTime": {
     "end_time": "2023-04-24T20:08:25.089450Z",
     "start_time": "2023-04-24T20:08:25.076458Z"
    }
   },
   "outputs": [
    {
     "name": "stdout",
     "output_type": "stream",
     "text": [
      "Index Error\n"
     ]
    }
   ],
   "source": [
    "try:\n",
    "    name = \"James\"\n",
    "    name[5]\n",
    "except IndexError:\n",
    "    print(\"Index Error\")"
   ]
  },
  {
   "cell_type": "code",
   "execution_count": 31,
   "id": "f7405b60",
   "metadata": {
    "ExecuteTime": {
     "end_time": "2023-04-24T20:19:21.305930Z",
     "start_time": "2023-04-24T20:19:21.276951Z"
    }
   },
   "outputs": [
    {
     "name": "stdout",
     "output_type": "stream",
     "text": [
      "Index Error\n",
      "string index out of range\n",
      "It keeps running\n"
     ]
    }
   ],
   "source": [
    "try:\n",
    "    name = \"James\"\n",
    "    name[5]\n",
    "except Exception as error:\n",
    "    print(\"Index Error\")\n",
    "    print(error)\n",
    "    \n",
    "print(\"It keeps running\")"
   ]
  },
  {
   "cell_type": "code",
   "execution_count": null,
   "id": "c82fe760",
   "metadata": {},
   "outputs": [],
   "source": []
  },
  {
   "cell_type": "code",
   "execution_count": 40,
   "id": "fcedacc0",
   "metadata": {
    "ExecuteTime": {
     "end_time": "2023-04-24T20:39:52.597659Z",
     "start_time": "2023-04-24T20:39:52.582669Z"
    }
   },
   "outputs": [],
   "source": [
    "# usage of \"raise\""
   ]
  },
  {
   "cell_type": "code",
   "execution_count": 33,
   "id": "ae6ad812",
   "metadata": {
    "ExecuteTime": {
     "end_time": "2023-04-24T20:33:29.500015Z",
     "start_time": "2023-04-24T20:33:29.434045Z"
    }
   },
   "outputs": [
    {
     "ename": "Exception",
     "evalue": "My error!!!",
     "output_type": "error",
     "traceback": [
      "\u001b[1;31m---------------------------------------------------------------------------\u001b[0m",
      "\u001b[1;31mException\u001b[0m                                 Traceback (most recent call last)",
      "Cell \u001b[1;32mIn[33], line 1\u001b[0m\n\u001b[1;32m----> 1\u001b[0m \u001b[38;5;28;01mraise\u001b[39;00m \u001b[38;5;167;01mException\u001b[39;00m(\u001b[38;5;124m\"\u001b[39m\u001b[38;5;124mMy error!!!\u001b[39m\u001b[38;5;124m\"\u001b[39m)\n",
      "\u001b[1;31mException\u001b[0m: My error!!!"
     ]
    }
   ],
   "source": [
    "raise Exception(\"My error!!!\")"
   ]
  },
  {
   "cell_type": "code",
   "execution_count": 34,
   "id": "70bdfaa4",
   "metadata": {
    "ExecuteTime": {
     "end_time": "2023-04-24T20:37:53.354371Z",
     "start_time": "2023-04-24T20:37:53.340380Z"
    }
   },
   "outputs": [],
   "source": [
    "def reversed(s):\n",
    "    if type(s) != str:\n",
    "        raise TypeError(\"Please enter a string\")\n",
    "    else:\n",
    "        return s[::-1]\n",
    "        "
   ]
  },
  {
   "cell_type": "code",
   "execution_count": 35,
   "id": "2360da8f",
   "metadata": {
    "ExecuteTime": {
     "end_time": "2023-04-24T20:38:01.922440Z",
     "start_time": "2023-04-24T20:38:01.885460Z"
    }
   },
   "outputs": [
    {
     "data": {
      "text/plain": [
       "'senoJ'"
      ]
     },
     "execution_count": 35,
     "metadata": {},
     "output_type": "execute_result"
    }
   ],
   "source": [
    "reversed(\"Jones\")"
   ]
  },
  {
   "cell_type": "code",
   "execution_count": 38,
   "id": "381c6f87",
   "metadata": {
    "ExecuteTime": {
     "end_time": "2023-04-24T20:38:47.302639Z",
     "start_time": "2023-04-24T20:38:47.145729Z"
    }
   },
   "outputs": [
    {
     "ename": "TypeError",
     "evalue": "Please enter a string",
     "output_type": "error",
     "traceback": [
      "\u001b[1;31m---------------------------------------------------------------------------\u001b[0m",
      "\u001b[1;31mTypeError\u001b[0m                                 Traceback (most recent call last)",
      "Cell \u001b[1;32mIn[38], line 1\u001b[0m\n\u001b[1;32m----> 1\u001b[0m \u001b[38;5;28;43mreversed\u001b[39;49m\u001b[43m(\u001b[49m\u001b[38;5;241;43m4545\u001b[39;49m\u001b[43m)\u001b[49m\n",
      "Cell \u001b[1;32mIn[34], line 3\u001b[0m, in \u001b[0;36mreversed\u001b[1;34m(s)\u001b[0m\n\u001b[0;32m      1\u001b[0m \u001b[38;5;28;01mdef\u001b[39;00m \u001b[38;5;21mreversed\u001b[39m(s):\n\u001b[0;32m      2\u001b[0m     \u001b[38;5;28;01mif\u001b[39;00m \u001b[38;5;28mtype\u001b[39m(s) \u001b[38;5;241m!=\u001b[39m \u001b[38;5;28mstr\u001b[39m:\n\u001b[1;32m----> 3\u001b[0m         \u001b[38;5;28;01mraise\u001b[39;00m \u001b[38;5;167;01mTypeError\u001b[39;00m(\u001b[38;5;124m\"\u001b[39m\u001b[38;5;124mPlease enter a string\u001b[39m\u001b[38;5;124m\"\u001b[39m)\n\u001b[0;32m      4\u001b[0m     \u001b[38;5;28;01melse\u001b[39;00m:\n\u001b[0;32m      5\u001b[0m         \u001b[38;5;28;01mreturn\u001b[39;00m s[::\u001b[38;5;241m-\u001b[39m\u001b[38;5;241m1\u001b[39m]\n",
      "\u001b[1;31mTypeError\u001b[0m: Please enter a string"
     ]
    }
   ],
   "source": [
    "reversed(4545)"
   ]
  },
  {
   "cell_type": "code",
   "execution_count": 39,
   "id": "5fd6d80b",
   "metadata": {
    "ExecuteTime": {
     "end_time": "2023-04-24T20:38:59.725866Z",
     "start_time": "2023-04-24T20:38:59.572438Z"
    }
   },
   "outputs": [
    {
     "ename": "TypeError",
     "evalue": "Please enter a string",
     "output_type": "error",
     "traceback": [
      "\u001b[1;31m---------------------------------------------------------------------------\u001b[0m",
      "\u001b[1;31mTypeError\u001b[0m                                 Traceback (most recent call last)",
      "Cell \u001b[1;32mIn[39], line 1\u001b[0m\n\u001b[1;32m----> 1\u001b[0m \u001b[38;5;28;43mreversed\u001b[39;49m\u001b[43m(\u001b[49m\u001b[43m[\u001b[49m\u001b[38;5;241;43m1\u001b[39;49m\u001b[43m,\u001b[49m\u001b[38;5;241;43m2\u001b[39;49m\u001b[43m,\u001b[49m\u001b[38;5;241;43m3\u001b[39;49m\u001b[43m]\u001b[49m\u001b[43m)\u001b[49m\n",
      "Cell \u001b[1;32mIn[34], line 3\u001b[0m, in \u001b[0;36mreversed\u001b[1;34m(s)\u001b[0m\n\u001b[0;32m      1\u001b[0m \u001b[38;5;28;01mdef\u001b[39;00m \u001b[38;5;21mreversed\u001b[39m(s):\n\u001b[0;32m      2\u001b[0m     \u001b[38;5;28;01mif\u001b[39;00m \u001b[38;5;28mtype\u001b[39m(s) \u001b[38;5;241m!=\u001b[39m \u001b[38;5;28mstr\u001b[39m:\n\u001b[1;32m----> 3\u001b[0m         \u001b[38;5;28;01mraise\u001b[39;00m \u001b[38;5;167;01mTypeError\u001b[39;00m(\u001b[38;5;124m\"\u001b[39m\u001b[38;5;124mPlease enter a string\u001b[39m\u001b[38;5;124m\"\u001b[39m)\n\u001b[0;32m      4\u001b[0m     \u001b[38;5;28;01melse\u001b[39;00m:\n\u001b[0;32m      5\u001b[0m         \u001b[38;5;28;01mreturn\u001b[39;00m s[::\u001b[38;5;241m-\u001b[39m\u001b[38;5;241m1\u001b[39m]\n",
      "\u001b[1;31mTypeError\u001b[0m: Please enter a string"
     ]
    }
   ],
   "source": [
    "reversed([1,2,3])"
   ]
  },
  {
   "cell_type": "code",
   "execution_count": null,
   "id": "d2bb0419",
   "metadata": {},
   "outputs": [],
   "source": []
  },
  {
   "cell_type": "code",
   "execution_count": 67,
   "id": "06f6bfb2",
   "metadata": {
    "ExecuteTime": {
     "end_time": "2023-04-24T21:01:44.886385Z",
     "start_time": "2023-04-24T21:01:44.866397Z"
    }
   },
   "outputs": [],
   "source": [
    "not_allowed_words = [\"ass\", \"shit\" ,\"fuck\"]\n",
    "\n",
    "def erased(s):\n",
    "    for word in not_allowed_words:\n",
    "        if word in s.lower():\n",
    "            raise Exception(\"Sensored words!!!\")\n",
    "    return s"
   ]
  },
  {
   "cell_type": "code",
   "execution_count": 68,
   "id": "cfee0dc7",
   "metadata": {
    "ExecuteTime": {
     "end_time": "2023-04-24T21:01:45.782914Z",
     "start_time": "2023-04-24T21:01:45.577991Z"
    }
   },
   "outputs": [
    {
     "ename": "Exception",
     "evalue": "Sensored words!!!",
     "output_type": "error",
     "traceback": [
      "\u001b[1;31m---------------------------------------------------------------------------\u001b[0m",
      "\u001b[1;31mException\u001b[0m                                 Traceback (most recent call last)",
      "Cell \u001b[1;32mIn[68], line 1\u001b[0m\n\u001b[1;32m----> 1\u001b[0m \u001b[43merased\u001b[49m\u001b[43m(\u001b[49m\u001b[38;5;124;43m\"\u001b[39;49m\u001b[38;5;124;43mMother fucker\u001b[39;49m\u001b[38;5;124;43m\"\u001b[39;49m\u001b[43m)\u001b[49m\n",
      "Cell \u001b[1;32mIn[67], line 6\u001b[0m, in \u001b[0;36merased\u001b[1;34m(s)\u001b[0m\n\u001b[0;32m      4\u001b[0m \u001b[38;5;28;01mfor\u001b[39;00m word \u001b[38;5;129;01min\u001b[39;00m not_allowed_words:\n\u001b[0;32m      5\u001b[0m     \u001b[38;5;28;01mif\u001b[39;00m word \u001b[38;5;129;01min\u001b[39;00m s\u001b[38;5;241m.\u001b[39mlower():\n\u001b[1;32m----> 6\u001b[0m         \u001b[38;5;28;01mraise\u001b[39;00m \u001b[38;5;167;01mException\u001b[39;00m(\u001b[38;5;124m\"\u001b[39m\u001b[38;5;124mSensored words!!!\u001b[39m\u001b[38;5;124m\"\u001b[39m)\n\u001b[0;32m      7\u001b[0m \u001b[38;5;28;01mreturn\u001b[39;00m s\n",
      "\u001b[1;31mException\u001b[0m: Sensored words!!!"
     ]
    }
   ],
   "source": [
    "erased(\"Mother fucker\")"
   ]
  },
  {
   "cell_type": "code",
   "execution_count": 69,
   "id": "59f53e12",
   "metadata": {
    "ExecuteTime": {
     "end_time": "2023-04-24T21:01:46.257018Z",
     "start_time": "2023-04-24T21:01:46.233031Z"
    }
   },
   "outputs": [
    {
     "name": "stdout",
     "output_type": "stream",
     "text": [
      "Sensored words!!!\n"
     ]
    }
   ],
   "source": [
    "try :\n",
    "    erased(\"Fuck you\")\n",
    "except Exception as e:\n",
    "    print(e)"
   ]
  },
  {
   "cell_type": "code",
   "execution_count": null,
   "id": "061df58c",
   "metadata": {},
   "outputs": [],
   "source": []
  }
 ],
 "metadata": {
  "hide_input": false,
  "kernelspec": {
   "display_name": "Python 3 (ipykernel)",
   "language": "python",
   "name": "python3"
  },
  "language_info": {
   "codemirror_mode": {
    "name": "ipython",
    "version": 3
   },
   "file_extension": ".py",
   "mimetype": "text/x-python",
   "name": "python",
   "nbconvert_exporter": "python",
   "pygments_lexer": "ipython3",
   "version": "3.10.9"
  },
  "nbTranslate": {
   "displayLangs": [
    "*"
   ],
   "hotkey": "alt-t",
   "langInMainMenu": true,
   "sourceLang": "en",
   "targetLang": "fr",
   "useGoogleTranslate": true
  },
  "toc": {
   "base_numbering": 1,
   "nav_menu": {},
   "number_sections": true,
   "sideBar": true,
   "skip_h1_title": false,
   "title_cell": "Table of Contents",
   "title_sidebar": "Contents",
   "toc_cell": false,
   "toc_position": {},
   "toc_section_display": true,
   "toc_window_display": false
  },
  "varInspector": {
   "cols": {
    "lenName": 16,
    "lenType": 16,
    "lenVar": 40
   },
   "kernels_config": {
    "python": {
     "delete_cmd_postfix": "",
     "delete_cmd_prefix": "del ",
     "library": "var_list.py",
     "varRefreshCmd": "print(var_dic_list())"
    },
    "r": {
     "delete_cmd_postfix": ") ",
     "delete_cmd_prefix": "rm(",
     "library": "var_list.r",
     "varRefreshCmd": "cat(var_dic_list()) "
    }
   },
   "types_to_exclude": [
    "module",
    "function",
    "builtin_function_or_method",
    "instance",
    "_Feature"
   ],
   "window_display": false
  }
 },
 "nbformat": 4,
 "nbformat_minor": 5
}
