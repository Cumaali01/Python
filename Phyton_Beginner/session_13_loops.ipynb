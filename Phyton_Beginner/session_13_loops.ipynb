{
 "cells": [
  {
   "attachments": {},
   "cell_type": "markdown",
   "metadata": {},
   "source": [
    "### Loops - While"
   ]
  },
  {
   "cell_type": "code",
   "execution_count": null,
   "metadata": {},
   "outputs": [],
   "source": [
    "while condition: \n",
    "    body"
   ]
  },
  {
   "cell_type": "code",
   "execution_count": 1,
   "metadata": {},
   "outputs": [
    {
     "name": "stdout",
     "output_type": "stream",
     "text": [
      "0\n",
      "1\n",
      "2\n",
      "3\n",
      "4\n"
     ]
    }
   ],
   "source": [
    "x = 0\n",
    "while x < 5 :\n",
    "    print(x)\n",
    "    x+=1\n",
    "    "
   ]
  },
  {
   "cell_type": "code",
   "execution_count": 4,
   "metadata": {},
   "outputs": [
    {
     "name": "stdout",
     "output_type": "stream",
     "text": [
      "While loop will run until the condition is False\n"
     ]
    }
   ],
   "source": [
    "y = True\n",
    "while y:\n",
    "    print(\"While loop will run until the condition is False\")\n",
    "    y = False"
   ]
  },
  {
   "cell_type": "code",
   "execution_count": 5,
   "metadata": {},
   "outputs": [
    {
     "name": "stdout",
     "output_type": "stream",
     "text": [
      "0\n",
      "End of the loop\n",
      "1\n",
      "End of the loop\n",
      "2\n",
      "End of the loop\n",
      "3\n",
      "End of the loop\n",
      "4\n",
      "End of the loop\n"
     ]
    }
   ],
   "source": [
    "x = 0\n",
    "while x < 5 :\n",
    "    print(x)\n",
    "    x+=1\n",
    "    print(\"End of the loop\")"
   ]
  },
  {
   "cell_type": "code",
   "execution_count": 6,
   "metadata": {},
   "outputs": [
    {
     "name": "stdout",
     "output_type": "stream",
     "text": [
      "0\n",
      "1\n",
      "2\n",
      "3\n",
      "4\n",
      "End of the loop\n"
     ]
    }
   ],
   "source": [
    "x = 0\n",
    "while x < 5 :\n",
    "    print(x)\n",
    "    x+=1\n",
    "print(\"End of the loop\")"
   ]
  },
  {
   "cell_type": "code",
   "execution_count": 7,
   "metadata": {},
   "outputs": [
    {
     "name": "stdout",
     "output_type": "stream",
     "text": [
      "1\n",
      "4\n",
      "9\n",
      "16\n",
      "25\n"
     ]
    }
   ],
   "source": [
    "#Karelerini alacaz tek tek\n",
    "list = [1,2,3,4,5]\n",
    "x = 0 # index olarak\n",
    "while x < 5:\n",
    "    print(list[x] ** 2)\n",
    "    x+=1"
   ]
  },
  {
   "cell_type": "code",
   "execution_count": 10,
   "metadata": {},
   "outputs": [
    {
     "name": "stdout",
     "output_type": "stream",
     "text": [
      "Square of 1 is 1\n",
      "Square of 2 is 4\n",
      "Square of 3 is 9\n",
      "Square of 4 is 16\n",
      "Square of 5 is 25\n"
     ]
    }
   ],
   "source": [
    "list = [1,2,3,4,5]\n",
    "x = 0 # index olarak\n",
    "while x < len(list):\n",
    "    print(\"Square of\", x+1, \"is\", list[x] ** 2)\n",
    "    x+=1"
   ]
  },
  {
   "cell_type": "code",
   "execution_count": 12,
   "metadata": {},
   "outputs": [
    {
     "name": "stdout",
     "output_type": "stream",
     "text": [
      "It will not run this\n"
     ]
    }
   ],
   "source": [
    "while [] : # [] this is False\n",
    "    print(\"Empty List\")\n",
    "print(\"It will not run this\")"
   ]
  },
  {
   "cell_type": "code",
   "execution_count": null,
   "metadata": {},
   "outputs": [],
   "source": [
    "\"\"\"\n",
    "x = \"3 Tırnagın calisma amacı\"\n",
    "\n",
    "\"\"\""
   ]
  },
  {
   "cell_type": "code",
   "execution_count": 4,
   "metadata": {},
   "outputs": [
    {
     "name": "stdout",
     "output_type": "stream",
     "text": [
      "Entered number is: 44 Increase your guess!\n",
      "Entered number is: 99 Lower your guess!\n",
      "Entered number is: 48. Congratulations! You have made a good guess\n",
      "you knew the 3. time\n"
     ]
    }
   ],
   "source": [
    "number = 48\n",
    "trial = 0\n",
    "\n",
    "while number ==48:\n",
    "    estimated_num = int(input(\"Kindly write a number: \"))\n",
    "\n",
    "    if number < estimated_num:\n",
    "        print(\"Entered number is:\", estimated_num, \"Lower your guess!\")\n",
    "        trial+=1\n",
    "    elif number > estimated_num:\n",
    "        print(\"Entered number is:\", estimated_num, \"Increase your guess!\")\n",
    "        trial+=1   \n",
    "    else:\n",
    "        print(f\"Entered number is: {estimated_num}. Congratulations! You have made a good guess\")\n",
    "        trial+=1\n",
    "        break\n",
    "\n",
    "print(f\"you knew the {trial}. time\")"
   ]
  },
  {
   "attachments": {},
   "cell_type": "markdown",
   "metadata": {},
   "source": [
    "### Random"
   ]
  },
  {
   "cell_type": "code",
   "execution_count": 27,
   "metadata": {},
   "outputs": [],
   "source": [
    "import random"
   ]
  },
  {
   "cell_type": "code",
   "execution_count": 24,
   "metadata": {},
   "outputs": [
    {
     "data": {
      "text/plain": [
       "0.7398576402435223"
      ]
     },
     "execution_count": 24,
     "metadata": {},
     "output_type": "execute_result"
    }
   ],
   "source": [
    "random.random()"
   ]
  },
  {
   "cell_type": "code",
   "execution_count": 31,
   "metadata": {},
   "outputs": [
    {
     "data": {
      "text/plain": [
       "0.7601614783097744"
      ]
     },
     "execution_count": 31,
     "metadata": {},
     "output_type": "execute_result"
    }
   ],
   "source": [
    "random.seed(95) # her bilgisayarda aynı olur, degismez!!! , herhangi bir sayı yazılabilir\n",
    "random.random()"
   ]
  },
  {
   "cell_type": "code",
   "execution_count": 35,
   "metadata": {},
   "outputs": [
    {
     "data": {
      "text/plain": [
       "3"
      ]
     },
     "execution_count": 35,
     "metadata": {},
     "output_type": "execute_result"
    }
   ],
   "source": [
    "random.randint(0,4) # 0 - 4 randoom numbers"
   ]
  },
  {
   "cell_type": "code",
   "execution_count": 5,
   "metadata": {},
   "outputs": [
    {
     "name": "stdout",
     "output_type": "stream",
     "text": [
      "Entered number is: 12 Increase your guess!\n",
      "Entered number is: 50 Lower your guess!\n",
      "Entered number is: 30 Increase your guess!\n",
      "Entered number is: 25 Increase your guess!\n",
      "Entered number is: 40 Increase your guess!\n",
      "Entered number is: 45 Increase your guess!\n",
      "Entered number is: 48 Increase your guess!\n",
      "Entered number is: 49. Congratulations! You have made a good guess\n",
      "you knew the 9th time\n"
     ]
    }
   ],
   "source": [
    "import random\n",
    "number = random.randint(0,100)\n",
    "trial = 0\n",
    "\n",
    "while True:\n",
    "    estimated_num = int(input(\"Kindly write a number: \"))\n",
    "\n",
    "    if number < estimated_num:\n",
    "        print(\"Entered number is:\", estimated_num, \"Lower your guess!\")\n",
    "        trial+=1\n",
    "    elif number > estimated_num:\n",
    "        print(\"Entered number is:\", estimated_num, \"Increase your guess!\")\n",
    "        trial+=1   \n",
    "    else:\n",
    "        print(f\"Entered number is: {estimated_num}. Congratulations! You have made a good guess\")\n",
    "        trial+=1\n",
    "        break\n",
    "print(f\"You knew the {trial}th time\")\n"
   ]
  },
  {
   "cell_type": "code",
   "execution_count": 10,
   "metadata": {},
   "outputs": [
    {
     "name": "stdout",
     "output_type": "stream",
     "text": [
      "Entered number is: 50 Increase your guess!\n",
      "Entered number is: 60 Increase your guess!\n",
      "Entered number is: 70 Increase your guess!\n",
      "Entered number is: 80 Lower your guess!\n",
      "Entered number is: 73 Lower your guess!\n",
      "Unfortunately you could not find the number in 5 times\n"
     ]
    }
   ],
   "source": [
    "import random\n",
    "number = random.randint(0,100)\n",
    "trial = 0\n",
    "\n",
    "while trial < 5: # kac tane hak vereceksek\n",
    "    estimated_num = int(input(\"Kindly write a number: \"))\n",
    "    trial+=1\n",
    "    if number < estimated_num:\n",
    "        print(\"Entered number is:\", estimated_num, \"Lower your guess!\")\n",
    "        \n",
    "    elif number > estimated_num:\n",
    "        print(\"Entered number is:\", estimated_num, \"Increase your guess!\")\n",
    "          \n",
    "    else:\n",
    "        print(f\"Entered number is: {estimated_num}. Congratulations! You have made a good guess, you knew thew {trial}th trial\")\n",
    "        break\n",
    "print(\"Unfortunately you could not find the number in 5 times\")"
   ]
  },
  {
   "attachments": {},
   "cell_type": "markdown",
   "metadata": {},
   "source": [
    "### max(), min()"
   ]
  },
  {
   "cell_type": "code",
   "execution_count": 11,
   "metadata": {},
   "outputs": [
    {
     "data": {
      "text/plain": [
       "1205"
      ]
     },
     "execution_count": 11,
     "metadata": {},
     "output_type": "execute_result"
    }
   ],
   "source": [
    "max([1,5,8,99,888,1205])"
   ]
  },
  {
   "cell_type": "code",
   "execution_count": 12,
   "metadata": {},
   "outputs": [
    {
     "data": {
      "text/plain": [
       "1"
      ]
     },
     "execution_count": 12,
     "metadata": {},
     "output_type": "execute_result"
    }
   ],
   "source": [
    "min([1,2,5,8,7,89,2,212])"
   ]
  },
  {
   "cell_type": "code",
   "execution_count": 14,
   "metadata": {},
   "outputs": [
    {
     "data": {
      "text/plain": [
       "'James'"
      ]
     },
     "execution_count": 14,
     "metadata": {},
     "output_type": "execute_result"
    }
   ],
   "source": [
    "max([\"Hello\", \"James\", \"Felix\"]) # ascii koduna gore sıralar"
   ]
  },
  {
   "cell_type": "code",
   "execution_count": 22,
   "metadata": {},
   "outputs": [
    {
     "data": {
      "text/plain": [
       "'James'"
      ]
     },
     "execution_count": 22,
     "metadata": {},
     "output_type": "execute_result"
    }
   ],
   "source": [
    "max([\"Hello\", \"James\", \"Felix\"],key = str.upper) # hepsini buyuk harfe3 cevirip ona gore sıralama yapar"
   ]
  },
  {
   "cell_type": "code",
   "execution_count": 19,
   "metadata": {},
   "outputs": [
    {
     "data": {
      "text/plain": [
       "'JAMES'"
      ]
     },
     "execution_count": 19,
     "metadata": {},
     "output_type": "execute_result"
    }
   ],
   "source": [
    "\"James\".upper()"
   ]
  },
  {
   "cell_type": "code",
   "execution_count": 21,
   "metadata": {},
   "outputs": [
    {
     "data": {
      "text/plain": [
       "'london'"
      ]
     },
     "execution_count": 21,
     "metadata": {},
     "output_type": "execute_result"
    }
   ],
   "source": [
    "\"LONDON\".lower()"
   ]
  },
  {
   "cell_type": "code",
   "execution_count": 25,
   "metadata": {},
   "outputs": [
    {
     "data": {
      "text/plain": [
       "325"
      ]
     },
     "execution_count": 25,
     "metadata": {},
     "output_type": "execute_result"
    }
   ],
   "source": [
    "num_list = [1,4,56,18,47,96,325,1,5,4,7,8,-8,-400,0,47]\n",
    "max(num_list)"
   ]
  },
  {
   "cell_type": "code",
   "execution_count": 29,
   "metadata": {},
   "outputs": [
    {
     "name": "stdout",
     "output_type": "stream",
     "text": [
      "Greatest number is 325\n"
     ]
    }
   ],
   "source": [
    "# Max num finding\n",
    "num_list = [1,4,56,18,47,96,325,1,5,4,7,8,-8,-400,0,47]\n",
    "\n",
    "index = 0\n",
    "\n",
    "max_num = num_list[0]\n",
    "\n",
    "while index < len(num_list):\n",
    "\n",
    "    if num_list[index] > max_num:\n",
    "        max_num = num_list[index]\n",
    "\n",
    "    index += 1\n",
    "\n",
    "print(f\"Greatest number is {max_num}\")"
   ]
  },
  {
   "cell_type": "code",
   "execution_count": 31,
   "metadata": {},
   "outputs": [
    {
     "name": "stdout",
     "output_type": "stream",
     "text": [
      "Minimum number is -400\n"
     ]
    }
   ],
   "source": [
    "# Min num finding\n",
    "num_list = [1,4,56,18,47,96,325,1,5,4,7,8,-8,-400,0,47]\n",
    "\n",
    "index = 0\n",
    "\n",
    "min_num = num_list[0]\n",
    "\n",
    "while index < len(num_list):\n",
    "\n",
    "    if num_list[index] < min_num:\n",
    "        min_num = num_list[index]\n",
    "\n",
    "    index += 1\n",
    "\n",
    "print(f\"Minimum number is {min_num}\")"
   ]
  },
  {
   "cell_type": "code",
   "execution_count": 52,
   "metadata": {},
   "outputs": [
    {
     "name": "stdout",
     "output_type": "stream",
     "text": [
      "Even numbers: [45, 22, 69, 55, 48, 50, 40]\n",
      "Odd numbers: [1, 58, 47, 45, 46, 49]\n"
     ]
    }
   ],
   "source": [
    "list_1 = [1,45,22,69,58,55,47,45,46,48,49,50,40]\n",
    "\n",
    "index = 0\n",
    "\n",
    "odd_numbers =[]\n",
    "even_numbers =[]\n",
    "\n",
    "while index < len(list_1):\n",
    "    \n",
    "    if num_list[index] % 2 == 0:\n",
    "        even_numbers.append(list_1[index])\n",
    "        # index+=1 \n",
    "    else:\n",
    "        odd_numbers.append(list_1[index])\n",
    "        # index+=1 \n",
    "    index +=1   \n",
    "print(f\"Even numbers: {even_numbers}\") \n",
    "print(f\"Odd numbers: {odd_numbers}\")   "
   ]
  },
  {
   "cell_type": "code",
   "execution_count": 53,
   "metadata": {},
   "outputs": [
    {
     "name": "stdout",
     "output_type": "stream",
     "text": [
      "Even numbers: 7\n",
      "Odd numbers: 6\n"
     ]
    }
   ],
   "source": [
    "list_1 = [1,45,22,69,58,55,47,45,46,48,49,50,40]\n",
    "\n",
    "index = 0\n",
    "\n",
    "odd_numbers =[]\n",
    "even_numbers =[]\n",
    "\n",
    "while index < len(list_1):\n",
    "    \n",
    "    if num_list[index] % 2 == 0:\n",
    "        even_numbers.append(list_1[index])\n",
    "       \n",
    "    else:\n",
    "        odd_numbers.append(list_1[index])\n",
    "       \n",
    "    index +=1   \n",
    "print(f\"Even numbers: {len(even_numbers)}\") \n",
    "print(f\"Odd numbers: {len(odd_numbers)}\")   "
   ]
  },
  {
   "cell_type": "code",
   "execution_count": 4,
   "metadata": {},
   "outputs": [
    {
     "name": "stdout",
     "output_type": "stream",
     "text": [
      "Even numbers: 6\n",
      "Odd numbers: 7\n"
     ]
    }
   ],
   "source": [
    "list_1 = [1,45,22,69,58,55,47,45,46,48,49,50,40]\n",
    "\n",
    "index = 0\n",
    "\n",
    "odd_counter = 0\n",
    "even_counter = 0\n",
    "\n",
    "while index < len(list_1):\n",
    "    \n",
    "    if list_1[index] % 2 == 0:\n",
    "        even_counter+=1\n",
    "       \n",
    "    else:\n",
    "        odd_counter+=1\n",
    "\n",
    "    index+=1\n",
    "\n",
    "print(f\"Even numbers: {even_counter}\") \n",
    "print(f\"Odd numbers: {odd_counter}\")   "
   ]
  },
  {
   "cell_type": "code",
   "execution_count": null,
   "metadata": {},
   "outputs": [],
   "source": []
  }
 ],
 "metadata": {
  "kernelspec": {
   "display_name": "Python 3",
   "language": "python",
   "name": "python3"
  },
  "language_info": {
   "codemirror_mode": {
    "name": "ipython",
    "version": 3
   },
   "file_extension": ".py",
   "mimetype": "text/x-python",
   "name": "python",
   "nbconvert_exporter": "python",
   "pygments_lexer": "ipython3",
   "version": "3.11.2"
  },
  "orig_nbformat": 4,
  "vscode": {
   "interpreter": {
    "hash": "b52f0326c461c572921985537a28c1464d6f232a21b63d1eb118623ecdbf8940"
   }
  }
 },
 "nbformat": 4,
 "nbformat_minor": 2
}
