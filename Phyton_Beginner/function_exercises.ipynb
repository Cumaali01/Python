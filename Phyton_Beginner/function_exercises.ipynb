{
 "cells": [
  {
   "attachments": {},
   "cell_type": "markdown",
   "metadata": {},
   "source": [
    "## 1. Write a Python function to find the maximum of given numbers."
   ]
  },
  {
   "cell_type": "code",
   "execution_count": null,
   "metadata": {},
   "outputs": [],
   "source": [
    "def find_max(*numbers):\n",
    "   return max(numbers)\n",
    "find_max(1,2,3)"
   ]
  },
  {
   "cell_type": "code",
   "execution_count": 21,
   "metadata": {},
   "outputs": [
    {
     "name": "stdout",
     "output_type": "stream",
     "text": [
      "8\n"
     ]
    }
   ],
   "source": [
    "def find_max(*numbers):\n",
    "    \n",
    "    for num in numbers:\n",
    "        if num == max(numbers):\n",
    "            print(num)\n",
    "\n",
    "find_max(5,4,8)\n"
   ]
  },
  {
   "attachments": {},
   "cell_type": "markdown",
   "metadata": {},
   "source": [
    "## 2. Write a Python function to sum all the numbers in a list"
   ]
  },
  {
   "cell_type": "code",
   "execution_count": 29,
   "metadata": {},
   "outputs": [
    {
     "data": {
      "text/plain": [
       "21"
      ]
     },
     "execution_count": 29,
     "metadata": {},
     "output_type": "execute_result"
    }
   ],
   "source": [
    "def sum(*numbers):\n",
    "    total = 0\n",
    "    for i in numbers:\n",
    "        total +=i\n",
    "    return total\n",
    "\n",
    "sum(1,4,2,5,9)"
   ]
  },
  {
   "cell_type": "code",
   "execution_count": 30,
   "metadata": {},
   "outputs": [
    {
     "data": {
      "text/plain": [
       "20"
      ]
     },
     "execution_count": 30,
     "metadata": {},
     "output_type": "execute_result"
    }
   ],
   "source": [
    "list = [8,2,3,0,7]\n",
    "sum =0\n",
    "for i in list:\n",
    "    sum = sum +i\n",
    "sum"
   ]
  },
  {
   "attachments": {},
   "cell_type": "markdown",
   "metadata": {},
   "source": [
    "## 3. Write a Python function to multiply all the numbers in a list."
   ]
  },
  {
   "cell_type": "code",
   "execution_count": 33,
   "metadata": {},
   "outputs": [
    {
     "data": {
      "text/plain": [
       "6"
      ]
     },
     "execution_count": 33,
     "metadata": {},
     "output_type": "execute_result"
    }
   ],
   "source": [
    "def multi(list):\n",
    "\n",
    "    multi_list= 1\n",
    "    for i in list:\n",
    "        multi_list *=i\n",
    "    return multi_list\n",
    "\n",
    "multi([1,2,3])\n"
   ]
  },
  {
   "cell_type": "code",
   "execution_count": 34,
   "metadata": {},
   "outputs": [
    {
     "data": {
      "text/plain": [
       "36"
      ]
     },
     "execution_count": 34,
     "metadata": {},
     "output_type": "execute_result"
    }
   ],
   "source": [
    "def multi2(*numbers):\n",
    "\n",
    "    multi_list1= 1\n",
    "    for i in numbers:\n",
    "        multi_list1 *=i\n",
    "    return multi_list1\n",
    "\n",
    "multi2(1,2,3,6)"
   ]
  },
  {
   "attachments": {},
   "cell_type": "markdown",
   "metadata": {},
   "source": [
    "## 4. Write a Python program to reverse a string. "
   ]
  },
  {
   "cell_type": "code",
   "execution_count": 42,
   "metadata": {},
   "outputs": [
    {
     "data": {
      "text/plain": [
       "'ilaamuC'"
      ]
     },
     "execution_count": 42,
     "metadata": {},
     "output_type": "execute_result"
    }
   ],
   "source": [
    "name = input(\"Write your name\")\n",
    "\n",
    "index = - 1\n",
    "reversed_name = []\n",
    "for i in name:\n",
    "    reversed_name.append(name[index])\n",
    "    index -= 1\n",
    "\n",
    "\"\".join(reversed_name)\n",
    "\n"
   ]
  },
  {
   "cell_type": "code",
   "execution_count": 2,
   "metadata": {},
   "outputs": [
    {
     "data": {
      "text/plain": [
       "'ilaamuC'"
      ]
     },
     "execution_count": 2,
     "metadata": {},
     "output_type": "execute_result"
    }
   ],
   "source": [
    "def reversed_string(str):\n",
    "    index = -1\n",
    "    reversed1 =[]\n",
    "    for i in str:\n",
    "        reversed1.append(str[index])\n",
    "        index -= 1\n",
    "    return \"\".join(reversed1)\n",
    "\n",
    "reversed_string(\"Cumaali\")"
   ]
  },
  {
   "attachments": {},
   "cell_type": "markdown",
   "metadata": {},
   "source": [
    "## 5. Write a Python function to calculate the factorial of a number (a non-negative integer). The function accepts the number as an argument"
   ]
  },
  {
   "cell_type": "code",
   "execution_count": 14,
   "metadata": {},
   "outputs": [
    {
     "data": {
      "text/plain": [
       "120"
      ]
     },
     "execution_count": 14,
     "metadata": {},
     "output_type": "execute_result"
    }
   ],
   "source": [
    "def fact(a):\n",
    "    if a>0:\n",
    "\n",
    "        factoriel =1\n",
    "        for i in range(1,a+1):\n",
    "            factoriel *=i\n",
    "    \n",
    "    else:\n",
    "        print(\"The number has to be greater than 0\")\n",
    "    return factoriel\n",
    "\n",
    "fact(5)"
   ]
  },
  {
   "attachments": {},
   "cell_type": "markdown",
   "metadata": {},
   "source": [
    "## 6. Write a Python function to check whether a number falls within a given range."
   ]
  },
  {
   "cell_type": "code",
   "execution_count": 44,
   "metadata": {},
   "outputs": [
    {
     "data": {
      "text/plain": [
       "'Congratulations \"44\" is in the range'"
      ]
     },
     "execution_count": 44,
     "metadata": {},
     "output_type": "execute_result"
    }
   ],
   "source": [
    "def number_found(num):\n",
    "    \n",
    "    if num in range(0,99,2):\n",
    "        \n",
    "        result = f\"\"\"Congratulations \"{num}\" is in the range\"\"\"\n",
    "    else:\n",
    "        result = f\"Unfortunately {num} is not in the range!\"\n",
    "  \n",
    "    return result\n",
    "\n",
    "number_found(44)"
   ]
  },
  {
   "attachments": {},
   "cell_type": "markdown",
   "metadata": {},
   "source": [
    "## 7. Write a Python function that accepts a string and counts the number of upper and lower case letters"
   ]
  },
  {
   "cell_type": "code",
   "execution_count": 1,
   "metadata": {},
   "outputs": [
    {
     "data": {
      "text/plain": [
       "('The original string is: The quick Brow Fox',\n",
       " 'The number of upper cases are: 3',\n",
       " 'lower cases: 12')"
      ]
     },
     "execution_count": 1,
     "metadata": {},
     "output_type": "execute_result"
    }
   ],
   "source": [
    "def string(str):\n",
    "      \n",
    "      upper_case =0\n",
    "      lower_case =0  \n",
    "\n",
    "      for i in str:\n",
    "            if i.isupper():\n",
    "                  upper_case+=1\n",
    "            elif i.islower():\n",
    "                  lower_case +=1\n",
    "            else:\n",
    "                  pass\n",
    "            \n",
    "            result = f\"The original string is: {str}\"\n",
    "            result1 = f\"The number of upper cases are: {upper_case}\"\n",
    "            result2 = f\"lower cases: {lower_case}\"\n",
    "      return result,result1,result2\n",
    "\n",
    "string(\"The quick Brow Fox\")"
   ]
  },
  {
   "cell_type": "code",
   "execution_count": 12,
   "metadata": {},
   "outputs": [
    {
     "data": {
      "text/plain": [
       "(('John', 'Jenny'), ('Charles', 'Christy'), ('Mike', 'Monica'))"
      ]
     },
     "execution_count": 12,
     "metadata": {},
     "output_type": "execute_result"
    }
   ],
   "source": [
    "#how to zip and after tuple, list or dict to read it\n",
    "a = (\"John\", \"Charles\", \"Mike\")\n",
    "b = (\"Jenny\", \"Christy\", \"Monica\", \"Vicky\")\n",
    "\n",
    "c = zip(a,b)\n",
    "tuple(c)"
   ]
  },
  {
   "cell_type": "code",
   "execution_count": 14,
   "metadata": {},
   "outputs": [
    {
     "data": {
      "text/plain": [
       "{'Real Madrid': 7, 'Milan': 4, 'Liverpool': 3}"
      ]
     },
     "execution_count": 14,
     "metadata": {},
     "output_type": "execute_result"
    }
   ],
   "source": [
    "teams= (\"Real Madrid\", \"Milan\", \"Liverpool\")\n",
    "cups = (7,4,3)\n",
    "\n",
    "mixed = zip(teams, cups)\n",
    "dict(mixed)"
   ]
  },
  {
   "attachments": {},
   "cell_type": "markdown",
   "metadata": {},
   "source": [
    "## 8. Write a Python function that takes a list and returns a new list with distinct elements from the first list."
   ]
  },
  {
   "cell_type": "code",
   "execution_count": 15,
   "metadata": {},
   "outputs": [
    {
     "data": {
      "text/plain": [
       "['ali', 1, 2, 'james']"
      ]
     },
     "execution_count": 15,
     "metadata": {},
     "output_type": "execute_result"
    }
   ],
   "source": [
    "def distinct(list):\n",
    "\n",
    "    new_list = []\n",
    "    for i in list:\n",
    "        if i not in new_list:\n",
    "            new_list.append(i)\n",
    "    return new_list\n",
    "\n",
    "distinct((\"ali\",1,2,2,2,\"ali\",\"james\"))"
   ]
  },
  {
   "attachments": {},
   "cell_type": "markdown",
   "metadata": {},
   "source": [
    "## 9. Write a Python function that takes a number as a parameter and checks whether the number is prime or not."
   ]
  },
  {
   "cell_type": "code",
   "execution_count": 34,
   "metadata": {},
   "outputs": [
    {
     "data": {
      "text/plain": [
       "'23 is a prime number'"
      ]
     },
     "execution_count": 34,
     "metadata": {},
     "output_type": "execute_result"
    }
   ],
   "source": [
    "def prime_num(num):\n",
    "    if num >1:\n",
    "        for i in range(1,num):\n",
    "            if num % i ==1:\n",
    "                result = f\"{num} is a prime number\"\n",
    "            else:\n",
    "                result = f\"{num} is not a number\"\n",
    "    else:\n",
    "        print(\"number must be greater than 1\")\n",
    "    return result\n",
    "\n",
    "prime_num(23)"
   ]
  },
  {
   "attachments": {},
   "cell_type": "markdown",
   "metadata": {},
   "source": [
    "## 10. Write a Python program to print the even numbers from a given list"
   ]
  },
  {
   "cell_type": "code",
   "execution_count": null,
   "metadata": {},
   "outputs": [],
   "source": []
  },
  {
   "cell_type": "code",
   "execution_count": null,
   "metadata": {},
   "outputs": [],
   "source": []
  },
  {
   "cell_type": "code",
   "execution_count": null,
   "metadata": {},
   "outputs": [],
   "source": []
  }
 ],
 "metadata": {
  "kernelspec": {
   "display_name": "Python 3",
   "language": "python",
   "name": "python3"
  },
  "language_info": {
   "codemirror_mode": {
    "name": "ipython",
    "version": 3
   },
   "file_extension": ".py",
   "mimetype": "text/x-python",
   "name": "python",
   "nbconvert_exporter": "python",
   "pygments_lexer": "ipython3",
   "version": "3.11.2"
  },
  "orig_nbformat": 4,
  "vscode": {
   "interpreter": {
    "hash": "b52f0326c461c572921985537a28c1464d6f232a21b63d1eb118623ecdbf8940"
   }
  }
 },
 "nbformat": 4,
 "nbformat_minor": 2
}
