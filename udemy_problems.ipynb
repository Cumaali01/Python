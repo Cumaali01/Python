{
 "cells": [
  {
   "cell_type": "code",
   "execution_count": 4,
   "metadata": {},
   "outputs": [],
   "source": [
    "a = \"sarı\"\n",
    "b = \"mehmet\"\n",
    "# samehmetrı yazılacak"
   ]
  },
  {
   "cell_type": "code",
   "execution_count": 5,
   "metadata": {},
   "outputs": [
    {
     "data": {
      "text/plain": [
       "'samehmetrı'"
      ]
     },
     "execution_count": 5,
     "metadata": {},
     "output_type": "execute_result"
    }
   ],
   "source": [
    "c = a[:len(a)//2] + b + a[len(a) //2 :]\n",
    "c"
   ]
  },
  {
   "attachments": {},
   "cell_type": "markdown",
   "metadata": {},
   "source": [
    "### # 3 e bölünen 7 ye bölünen ve her ikisine bölnen sayıları yazdırma (BigBang yazdır, 1 - 50 arası sayılar)"
   ]
  },
  {
   "cell_type": "code",
   "execution_count": 11,
   "metadata": {},
   "outputs": [
    {
     "name": "stdout",
     "output_type": "stream",
     "text": [
      "1: Error\n",
      "2: Error\n",
      "3: Big\n",
      "4: Error\n",
      "5: Error\n",
      "6: Big\n",
      "7: Bang\n",
      "8: Error\n",
      "9: Big\n",
      "10: Error\n",
      "11: Error\n",
      "12: Big\n",
      "13: Error\n",
      "14: Bang\n",
      "15: Big\n",
      "16: Error\n",
      "17: Error\n",
      "18: Big\n",
      "19: Error\n",
      "20: Error\n",
      "21: Big Bang\n",
      "22: Error\n",
      "23: Error\n",
      "24: Big\n",
      "25: Error\n",
      "26: Error\n",
      "27: Big\n",
      "28: Bang\n",
      "29: Error\n",
      "30: Big\n",
      "31: Error\n",
      "32: Error\n",
      "33: Big\n",
      "34: Error\n",
      "35: Bang\n",
      "36: Big\n",
      "37: Error\n",
      "38: Error\n",
      "39: Big\n",
      "40: Error\n",
      "41: Error\n",
      "42: Big Bang\n",
      "43: Error\n",
      "44: Error\n",
      "45: Big\n",
      "46: Error\n",
      "47: Error\n",
      "48: Big\n",
      "49: Bang\n",
      "50: Error\n"
     ]
    }
   ],
   "source": [
    "for i in range(1,51):\n",
    "    if i % 3 == 0 and i % 7 == 0:\n",
    "        print(f\"{i}: Big Bang\")\n",
    "    elif i % 3== 0:\n",
    "        print(f\"{i}: Big\")\n",
    "    elif i % 7 == 0:\n",
    "        print(f\"{i}: Bang\")\n",
    "    else:\n",
    "        print(f\"{i}: Error\")  "
   ]
  },
  {
   "cell_type": "code",
   "execution_count": null,
   "metadata": {},
   "outputs": [
    {
     "name": "stdout",
     "output_type": "stream",
     "text": [
      "0: Big Bang\n",
      "1: Error\n",
      "2: Error\n",
      "3: Big\n",
      "4: Error\n",
      "5: Error\n",
      "6: Big\n",
      "7: Bang\n",
      "8: Error\n",
      "9: Big\n",
      "10: Error\n",
      "11: Error\n",
      "12: Big\n",
      "13: Error\n",
      "14: Bang\n",
      "15: Big\n",
      "16: Error\n",
      "17: Error\n",
      "18: Big\n",
      "19: Error\n",
      "20: Error\n",
      "21: Big Bang\n",
      "22: Error\n",
      "23: Error\n",
      "24: Big\n",
      "25: Error\n",
      "26: Error\n",
      "27: Big\n",
      "28: Bang\n",
      "29: Error\n",
      "30: Big\n",
      "31: Error\n",
      "32: Error\n",
      "33: Big\n",
      "34: Error\n",
      "35: Bang\n",
      "36: Big\n",
      "37: Error\n",
      "38: Error\n",
      "39: Big\n",
      "40: Error\n",
      "41: Error\n",
      "42: Big Bang\n",
      "43: Error\n",
      "44: Error\n",
      "45: Big\n",
      "46: Error\n",
      "47: Error\n",
      "48: Big\n",
      "49: Bang\n",
      "50: Error\n",
      "The end\n"
     ]
    }
   ],
   "source": [
    "# with while lop\n",
    "x = 0\n",
    "\n",
    "while x <=50:\n",
    "    if x % 3 == 0 and x % 7 == 0:\n",
    "        print(f\"{x}: Big Bang\")\n",
    "    elif x % 3== 0:\n",
    "        print(f\"{x}: Big\")\n",
    "    elif x % 7 == 0:\n",
    "        print(f\"{x}: Bang\")\n",
    "    else:\n",
    "        print(f\"{x}: Error\")\n",
    "    x+=1\n",
    "print(\"The end\")"
   ]
  },
  {
   "cell_type": "code",
   "execution_count": 11,
   "metadata": {},
   "outputs": [
    {
     "name": "stdout",
     "output_type": "stream",
     "text": [
      "İsminiz: ali\n",
      "Kalın ünlü sayısı: 1\n",
      "İnce ünlü sayısı: 1\n",
      "Büyük ünlü uyumuna uymaz\n"
     ]
    }
   ],
   "source": [
    "# kalın ve ince ünlü sayıları\n",
    "\n",
    "isim = input(\"İsminize giriniz: \").lower() # upper yaptım çünkü büyük harf küüçük harf saymayabiliyor\n",
    "kalın_unlu = 0\n",
    "ince_unlu = 0\n",
    "\n",
    "for i in isim:\n",
    "    if i in \"aouı\":\n",
    "        kalın_unlu+=1\n",
    "    elif i in \"eiöü\":\n",
    "        ince_unlu+=1\n",
    "print(f\"İsminiz: {isim}\\nKalın ünlü sayısı: {kalın_unlu}\")\n",
    "print(f\"İnce ünlü sayısı: {ince_unlu}\")\n",
    "\n",
    "if kalın_unlu > 0 or ince_unlu > 0:    \n",
    "    if kalın_unlu + ince_unlu ==1:\n",
    "        sonuc =\"Büyük ünlü uyumu aranmaz\"\n",
    "    elif kalın_unlu * ince_unlu == 0:\n",
    "        sonuc =\"Büyük ünlü uyumuna uyar\"\n",
    "    else:\n",
    "        sonuc =\"Büyük ünlü uyumuna uymaz\"\n",
    "else:\n",
    "    sonuc = \"Sesli harf yoktur\"\n",
    "print(sonuc)"
   ]
  },
  {
   "attachments": {},
   "cell_type": "markdown",
   "metadata": {},
   "source": [
    "### tek ise sayıyı 10 ile çarp, cift ise 10 a böl, en fazla 3 basamaklı sayıları kabul et   "
   ]
  },
  {
   "cell_type": "code",
   "execution_count": 63,
   "metadata": {},
   "outputs": [
    {
     "name": "stdout",
     "output_type": "stream",
     "text": [
      "120\n"
     ]
    }
   ],
   "source": [
    "x = int(input(\"Enter a number between 0-1000\"))\n",
    "\n",
    "result =0\n",
    "\n",
    "if x <= 999 and x %3 == 0:\n",
    "    result += (x * 10)\n",
    "elif x <= 999 and x % 4 == 0:\n",
    "    result += (x / 10)\n",
    "elif x < 0:\n",
    "    print(\"No minus numbers accepted\")\n",
    "else:\n",
    "    print(\"Inappropriate input\")\n",
    "print(result)"
   ]
  },
  {
   "cell_type": "code",
   "execution_count": 66,
   "metadata": {},
   "outputs": [
    {
     "name": "stdout",
     "output_type": "stream",
     "text": [
      "220 and 284 are amicable numbers\n"
     ]
    }
   ],
   "source": [
    "# Build an algorithm that detects amicable numbers\n",
    "\n",
    "x = int(input(\"Please enter a number\"))\n",
    "\n",
    "sum_i = 0\n",
    "for i in range(1,x):\n",
    "    if x % i ==0:\n",
    "        sum_i +=i\n",
    "\n",
    "sum_j =0\n",
    "for j in range(1,sum_i):\n",
    "    if sum_i % j ==0:\n",
    "        sum_j += j\n",
    "\n",
    "if x == sum_j:\n",
    "    print(f\"{x} and {sum_i} are amicable numbers\")\n",
    "else:\n",
    "    print(f\"{x} is lonely number\")"
   ]
  },
  {
   "cell_type": "code",
   "execution_count": 73,
   "metadata": {},
   "outputs": [
    {
     "name": "stdout",
     "output_type": "stream",
     "text": [
      "220 and 284 are amicable numbers\n"
     ]
    }
   ],
   "source": [
    "# Build an algorithm that detects amicable numbers\n",
    "\n",
    "x = int(input(\"Please enter a number\"))\n",
    "\n",
    "sum_i = sum([i for i in range(1,x) if x % i ==0])\n",
    "sum_j = sum([j for j in range(1,sum_i) if sum_i % j ==0])\n",
    "\n",
    "if x == sum_j:\n",
    "    print(f\"{x} and {sum_i} are amicable numbers\")\n",
    "\n",
    "else:\n",
    "    print(f\"{x} is lonely number\")"
   ]
  },
  {
   "cell_type": "code",
   "execution_count": 74,
   "metadata": {},
   "outputs": [
    {
     "data": {
      "text/plain": [
       "5"
      ]
     },
     "execution_count": 74,
     "metadata": {},
     "output_type": "execute_result"
    }
   ],
   "source": [
    "abs(-5) # mutlak deger  "
   ]
  },
  {
   "cell_type": "code",
   "execution_count": 76,
   "metadata": {},
   "outputs": [
    {
     "name": "stdout",
     "output_type": "stream",
     "text": [
      "Your weekly salary is 696.0 $\n"
     ]
    }
   ],
   "source": [
    "# weekly salary calculation\n",
    "\n",
    "work_hours = int(input(\"Enter your weekly working hour\"))\n",
    "hourly_salary = int(input(\"Enter your hourly salary\"))\n",
    "\n",
    "if work_hours > 40:\n",
    "    weekly_salary = (work_hours - 40) *(1.5 * hourly_salary) + 40 * hourly_salary\n",
    "else:\n",
    "    weekly_salary = work_hours * hourly_salary\n",
    "\n",
    "print(f\"Your weekly salary is {weekly_salary} $\")"
   ]
  },
  {
   "cell_type": "code",
   "execution_count": 88,
   "metadata": {},
   "outputs": [
    {
     "name": "stdout",
     "output_type": "stream",
     "text": [
      "46\n"
     ]
    }
   ],
   "source": [
    "x = input(\"Enter a number\")\n",
    "y = input(\"Enter a number\")\n",
    "\n",
    "if x.isnumeric() and y.isdigit():\n",
    "    a = x + y # 4+6 =46 olur str \n",
    "else:\n",
    "     a= \"You haven not entered a number\"\n",
    "print(a)"
   ]
  },
  {
   "cell_type": "code",
   "execution_count": 87,
   "metadata": {},
   "outputs": [
    {
     "name": "stdout",
     "output_type": "stream",
     "text": [
      "10\n"
     ]
    }
   ],
   "source": [
    "x = input(\"Enter a number\")\n",
    "y = input(\"Enter a number\")\n",
    "\n",
    "if x.isnumeric() and y.isdigit():\n",
    "    a = int(x) + int(y) # 4 +6 = 10 int\n",
    "else:\n",
    "    a= \"You haven not entered a number\"\n",
    "print(a)"
   ]
  },
  {
   "cell_type": "code",
   "execution_count": 90,
   "metadata": {},
   "outputs": [],
   "source": [
    "# jaMes\n",
    "x = \"james\""
   ]
  },
  {
   "cell_type": "code",
   "execution_count": 91,
   "metadata": {},
   "outputs": [
    {
     "data": {
      "text/plain": [
       "'ja'"
      ]
     },
     "execution_count": 91,
     "metadata": {},
     "output_type": "execute_result"
    }
   ],
   "source": [
    "x[:2]"
   ]
  },
  {
   "cell_type": "code",
   "execution_count": 93,
   "metadata": {},
   "outputs": [
    {
     "data": {
      "text/plain": [
       "'M'"
      ]
     },
     "execution_count": 93,
     "metadata": {},
     "output_type": "execute_result"
    }
   ],
   "source": [
    "x[2].upper()"
   ]
  },
  {
   "cell_type": "code",
   "execution_count": 94,
   "metadata": {},
   "outputs": [
    {
     "data": {
      "text/plain": [
       "'mes'"
      ]
     },
     "execution_count": 94,
     "metadata": {},
     "output_type": "execute_result"
    }
   ],
   "source": [
    "x[2:]"
   ]
  },
  {
   "cell_type": "code",
   "execution_count": 95,
   "metadata": {},
   "outputs": [
    {
     "data": {
      "text/plain": [
       "'jaMmes'"
      ]
     },
     "execution_count": 95,
     "metadata": {},
     "output_type": "execute_result"
    }
   ],
   "source": [
    "x[:2] + x[2].upper() + x[2:]"
   ]
  },
  {
   "cell_type": "code",
   "execution_count": 97,
   "metadata": {},
   "outputs": [
    {
     "data": {
      "text/plain": [
       "[(1000, 'L'),\n",
       " (1001, 'i'),\n",
       " (1002, 'v'),\n",
       " (1003, 'e'),\n",
       " (1004, 'r'),\n",
       " (1005, 'p'),\n",
       " (1006, 'o'),\n",
       " (1007, 'o'),\n",
       " (1008, 'l')]"
      ]
     },
     "execution_count": 97,
     "metadata": {},
     "output_type": "execute_result"
    }
   ],
   "source": [
    "list(enumerate(\"Liverpool\", 1000))"
   ]
  },
  {
   "cell_type": "code",
   "execution_count": 98,
   "metadata": {},
   "outputs": [
    {
     "data": {
      "text/plain": [
       "{1000: 'L',\n",
       " 1001: 'i',\n",
       " 1002: 'v',\n",
       " 1003: 'e',\n",
       " 1004: 'r',\n",
       " 1005: 'p',\n",
       " 1006: 'o',\n",
       " 1007: 'o',\n",
       " 1008: 'l'}"
      ]
     },
     "execution_count": 98,
     "metadata": {},
     "output_type": "execute_result"
    }
   ],
   "source": [
    "dict(enumerate(\"Liverpool\", 1000))"
   ]
  },
  {
   "cell_type": "code",
   "execution_count": 100,
   "metadata": {},
   "outputs": [],
   "source": [
    "dict_1 = dict(enumerate(\"Jaguar\"))"
   ]
  },
  {
   "cell_type": "code",
   "execution_count": 104,
   "metadata": {},
   "outputs": [
    {
     "data": {
      "text/plain": [
       "'J'"
      ]
     },
     "execution_count": 104,
     "metadata": {},
     "output_type": "execute_result"
    }
   ],
   "source": [
    "dict_1[0]"
   ]
  },
  {
   "cell_type": "code",
   "execution_count": 107,
   "metadata": {},
   "outputs": [
    {
     "name": "stdout",
     "output_type": "stream",
     "text": [
      "{0: 'J', 1: 'a', 2: 'g', 3: 'u', 4: 'a', 5: 'r'}\n"
     ]
    }
   ],
   "source": [
    "x = input(\"Enter a word\")\n",
    "\n",
    "dict_2 = {}\n",
    "for i in range(len(x)):\n",
    "    dict_2[i] = x[i]\n",
    "print(dict_2)"
   ]
  },
  {
   "cell_type": "code",
   "execution_count": 2,
   "metadata": {},
   "outputs": [
    {
     "name": "stdout",
     "output_type": "stream",
     "text": [
      "7\n"
     ]
    }
   ],
   "source": [
    "# 4 OPERATIONS\n",
    "\n",
    "a = int(input(\"Enter first number\"))\n",
    "b = int(input(\"Enter second number\"))\n",
    "c = input(\"Please enter the operations sign, +, -, /, *\")\n",
    "multiply = \"*\"\n",
    "divide = \"/\"\n",
    "plus = \"+\"\n",
    "minus = \"-\"\n",
    "\n",
    "if c == multiply:\n",
    "    result = a * b\n",
    "elif c == divide:\n",
    "    result = a/b\n",
    "elif c == plus:\n",
    "    result = a + b\n",
    "elif c == minus:\n",
    "    result = a - b\n",
    "else:\n",
    "    print(\"Wrong operations sign entered\")\n",
    "\n",
    "print(result)"
   ]
  },
  {
   "cell_type": "code",
   "execution_count": 3,
   "metadata": {},
   "outputs": [
    {
     "name": "stdout",
     "output_type": "stream",
     "text": [
      "5 x 0 = 0\n",
      "5 x 1 = 5\n",
      "5 x 2 = 10\n",
      "5 x 3 = 15\n",
      "5 x 4 = 20\n",
      "5 x 5 = 25\n",
      "5 x 6 = 30\n",
      "5 x 7 = 35\n",
      "5 x 8 = 40\n",
      "5 x 9 = 45\n",
      "5 x 10 = 50\n"
     ]
    }
   ],
   "source": [
    "# Multiplication table\n",
    "a = int(input(\"Enter a number\"))\n",
    "for i in range(11):\n",
    "    print(f\"{a} x {i} = {a*i}\")"
   ]
  },
  {
   "cell_type": "code",
   "execution_count": 4,
   "metadata": {},
   "outputs": [
    {
     "name": "stdout",
     "output_type": "stream",
     "text": [
      "5 x 0 =  0\n",
      "5 x 1 =  5\n",
      "5 x 2 =  10\n",
      "5 x 3 =  15\n",
      "5 x 4 =  20\n",
      "5 x 5 =  25\n",
      "5 x 6 =  30\n",
      "5 x 7 =  35\n",
      "5 x 8 =  40\n",
      "5 x 9 =  45\n",
      "5 x 10 =  50\n"
     ]
    }
   ],
   "source": [
    "#with format method\n",
    "for i in range(11):\n",
    "    print(\"{} x {} = \".format(a,i), a*i)"
   ]
  },
  {
   "cell_type": "code",
   "execution_count": 6,
   "metadata": {},
   "outputs": [
    {
     "name": "stdout",
     "output_type": "stream",
     "text": [
      "615\n"
     ]
    }
   ],
   "source": [
    "# 5 = (5 + 55 + 555) => 615\n",
    "a =  input(\"Please enter a number\")\n",
    "if a.isdigit():\n",
    "    if int(a) in [0,1,2,3,4,5,6,7,8,9]:\n",
    "        result = int(a) + int(a*2) + int(a*3)\n",
    "    else:\n",
    "        result = 'Make sure you entered a number'\n",
    "else:\n",
    "    result = 'Make sure you entered a number'\n",
    "print(result)    \n"
   ]
  },
  {
   "cell_type": "code",
   "execution_count": 10,
   "metadata": {},
   "outputs": [
    {
     "name": "stdout",
     "output_type": "stream",
     "text": [
      "123\n"
     ]
    }
   ],
   "source": [
    "a =  input(\"Please enter a number\")\n",
    "if a.isdigit():\n",
    "    result = int(a) + int(a*2) + int(a*3)\n",
    "else:\n",
    "    result = 'Make sure you entered a number'\n",
    "print(result)    \n"
   ]
  },
  {
   "cell_type": "code",
   "execution_count": 1,
   "metadata": {},
   "outputs": [
    {
     "name": "stdout",
     "output_type": "stream",
     "text": [
      "?emil\n"
     ]
    }
   ],
   "source": [
    "x = input(\"enter a word\")\n",
    "\n",
    "x_new = x.replace(x[0], \"?\")\n",
    "print(x_new)"
   ]
  },
  {
   "cell_type": "code",
   "execution_count": 12,
   "metadata": {},
   "outputs": [
    {
     "data": {
      "text/plain": [
       "'limec'"
      ]
     },
     "execution_count": 12,
     "metadata": {},
     "output_type": "execute_result"
    }
   ],
   "source": [
    "x[::-1]"
   ]
  },
  {
   "cell_type": "code",
   "execution_count": null,
   "metadata": {},
   "outputs": [],
   "source": [
    "Cemil"
   ]
  },
  {
   "cell_type": "code",
   "execution_count": 28,
   "metadata": {},
   "outputs": [
    {
     "name": "stdout",
     "output_type": "stream",
     "text": [
      "The list of evens is: [2, 4, 6, 8, 10, 12, 14, 16, 18, 20, 22, 24, 26, 28, 30, 32, 34, 36, 38, 40, 42, 44, 46, 48, 50]\n",
      "The list of odds is: [1, 3, 5, 7, 9, 11, 13, 15, 17, 19, 21, 23, 25, 27, 29, 31, 33, 35, 37, 39, 41, 43, 45, 47, 49]\n"
     ]
    }
   ],
   "source": [
    "# 1 to 50 odd or even?\n",
    "odds = []\n",
    "evens = []\n",
    "for i in range(1,51):\n",
    "    if i % 2 ==0:\n",
    "        evens.append(i)\n",
    "    elif i % 2 == 1:\n",
    "        odds.append(i)\n",
    "print(f\"The list of evens is: {evens}\")\n",
    "print(f\"The list of odds is: {odds}\")"
   ]
  },
  {
   "cell_type": "code",
   "execution_count": 38,
   "metadata": {},
   "outputs": [
    {
     "name": "stdout",
     "output_type": "stream",
     "text": [
      "[1, 3, 5, 7, 9, 11, 13, 15, 17, 19, 21, 23, 25, 27, 29, 31, 33, 35, 37, 39, 41, 43, 45, 47, 49]\n",
      "[2, 4, 6, 8, 10, 12, 14, 16, 18, 20, 22, 24, 26, 28, 30, 32, 34, 36, 38, 40, 42, 44, 46, 48, 50]\n"
     ]
    }
   ],
   "source": [
    "# 1 to 50 odd or even? 2. way\n",
    "evens = [i for i in range(1,51) if i % 2 ==0]\n",
    "odds = [i for i in range(1,51) if i % 2 ==1]\n",
    "print(odds)\n",
    "print(evens)"
   ]
  },
  {
   "cell_type": "code",
   "execution_count": 51,
   "metadata": {},
   "outputs": [
    {
     "name": "stdout",
     "output_type": "stream",
     "text": [
      "(14, 15, 16, 17, 18, 19, 20)\n"
     ]
    }
   ],
   "source": [
    "# if the first number is greater than the second one order all the numbers between them from largest to smallest,\n",
    "# if not, do the otherwise\n",
    "\n",
    "n1 = int(input(\"Please enter a number\"))\n",
    "n2 = int(input(\"Please enter a number\"))\n",
    "\n",
    "if n1 < n2:\n",
    "    print(tuple(range(n1,n2+1)))\n",
    "elif n1 > n2:\n",
    "    print(tuple(range(n2,n1+1)))\n",
    "else:\n",
    "    print(n1)"
   ]
  },
  {
   "cell_type": "code",
   "execution_count": 56,
   "metadata": {},
   "outputs": [
    {
     "name": "stdout",
     "output_type": "stream",
     "text": [
      "['My', 'name', 'is', 'James', 'and', \"I'm\", '29', 'years', 'old']\n"
     ]
    }
   ],
   "source": [
    "#reverse writing\n",
    "\n",
    "name = \"My name is James and I'm 29 years old\"\n",
    "word_list = name.split(\" \")\n",
    "print(word_list)"
   ]
  },
  {
   "cell_type": "code",
   "execution_count": 62,
   "metadata": {},
   "outputs": [
    {
     "name": "stdout",
     "output_type": "stream",
     "text": [
      "old years 29 I'm and James is name My "
     ]
    }
   ],
   "source": [
    "#1st way\n",
    "n = len(word_list) - 1\n",
    "\n",
    "while n>=0:\n",
    "    print(word_list[n], end=\" \")\n",
    "    n-=1"
   ]
  },
  {
   "cell_type": "code",
   "execution_count": 69,
   "metadata": {},
   "outputs": [
    {
     "name": "stdout",
     "output_type": "stream",
     "text": [
      "['old', 'years', '29', \"I'm\", 'and', 'James', 'is', 'name', 'My']\n",
      "old years 29 I'm and James is name My\n"
     ]
    }
   ],
   "source": [
    "#2nd way\n",
    "name = \"My name is James and I'm 29 years old\"\n",
    "word_list = name.split(\" \")\n",
    "print(word_list[::-1])\n",
    "print(*word_list[::-1])"
   ]
  },
  {
   "cell_type": "code",
   "execution_count": 79,
   "metadata": {},
   "outputs": [
    {
     "name": "stdout",
     "output_type": "stream",
     "text": [
      "dlo sraey 92 m'I dna semaJ si eman yM\n"
     ]
    }
   ],
   "source": [
    "#mirror of the writing\n",
    "\n",
    "print(name[::-1])"
   ]
  },
  {
   "cell_type": "code",
   "execution_count": 8,
   "metadata": {},
   "outputs": [
    {
     "name": "stdout",
     "output_type": "stream",
     "text": [
      "50.0\n"
     ]
    }
   ],
   "source": [
    "# imagine a circle, there is a square inside and one outside. create a program that returns the difference of the two squares\n",
    "\n",
    "r = float(input(\"Please enter the radius of the circle\"))\n",
    "\n",
    "\n",
    "inner_square = 2*r**2\n",
    "outer_square = (2*r)**2\n",
    "\n",
    "difference = outer_square - inner_square\n",
    "print(difference)\n",
    "\n"
   ]
  },
  {
   "cell_type": "code",
   "execution_count": 21,
   "metadata": {},
   "outputs": [
    {
     "name": "stdout",
     "output_type": "stream",
     "text": [
      "1\n",
      "2\n",
      "3: Big\n",
      "4\n",
      "5\n",
      "6: Big\n",
      "7: Bang\n",
      "8\n",
      "9: Big\n",
      "10\n",
      "11\n",
      "12: Big\n",
      "13\n",
      "14: Bang\n",
      "15: Big\n",
      "16\n",
      "17\n",
      "18: Big\n",
      "19\n",
      "20\n",
      "21: Big Bang\n",
      "22\n",
      "23\n",
      "24: Big\n",
      "25\n",
      "26\n",
      "27: Big\n",
      "28: Bang\n",
      "29\n",
      "30: Big\n",
      "31\n",
      "32\n",
      "33: Big\n",
      "34\n",
      "35: Bang\n",
      "36: Big\n",
      "37\n",
      "38\n",
      "39: Big\n",
      "40\n",
      "41\n",
      "42: Big Bang\n",
      "43\n",
      "44\n",
      "45: Big\n",
      "46\n",
      "47\n",
      "48: Big\n",
      "49: Bang\n",
      "50\n"
     ]
    }
   ],
   "source": [
    "# 1 -50 numbers, multiples of 7 print \"Bang\", 3 \"Big\" both \"Big Bang\"\n",
    "\n",
    "for i in range(1,51):\n",
    "    if i % 7 == 0 and i % 3 == 0:\n",
    "        print(f\"{i}: Big Bang\")\n",
    "    elif i % 3 ==0:\n",
    "        print(f\"{i}: Big\")\n",
    "    elif i % 7 ==0:\n",
    "        print(f\"{i}: Bang\")\n",
    "    else:\n",
    "        print(i)"
   ]
  },
  {
   "cell_type": "code",
   "execution_count": 37,
   "metadata": {},
   "outputs": [
    {
     "name": "stdout",
     "output_type": "stream",
     "text": [
      "Kalın ünlü sayısı: 2\n",
      "İnce ünlü sayısı: 0\n",
      "Büyük ünlü uyumuna uyar\n"
     ]
    }
   ],
   "source": [
    "# kalın ve ince ünlü sayısı bulma\n",
    "kelime= input(\"Bir kelime giriniz\").lower()\n",
    "\n",
    "kalın_unluler = 0\n",
    "ince_unluler = 0\n",
    "\n",
    "for i in kelime:\n",
    "    if i in \"aıou\":\n",
    "        kalın_unluler +=1\n",
    "    elif i in \"eöiü\":\n",
    "        ince_unluler +=1\n",
    "print(f\"Kalın ünlü sayısı: {kalın_unluler}\")\n",
    "print(f\"İnce ünlü sayısı: {ince_unluler}\") \n",
    "\n",
    "if kalın_unluler + ince_unluler == 1:\n",
    "    sonuc= \"Büyük ünlü uyumu aranmaz\"\n",
    "elif kalın_unluler * ince_unluler == 0:\n",
    "    sonuc = \"Büyük ünlü uyumuna uyar\"\n",
    "else:\n",
    "    sonuc = \"Büyük ünlü uyumuna uymaz\"\n",
    "\n",
    "print(sonuc)\n"
   ]
  },
  {
   "cell_type": "code",
   "execution_count": 66,
   "metadata": {},
   "outputs": [
    {
     "data": {
      "text/plain": [
       "['a', 'b', 'c', 'd']"
      ]
     },
     "execution_count": 66,
     "metadata": {},
     "output_type": "execute_result"
    }
   ],
   "source": [
    "h= [i for i in\"abcd45\" if i.isalpha()] # it only runs the alphabetic values\n",
    "h"
   ]
  },
  {
   "cell_type": "code",
   "execution_count": 65,
   "metadata": {},
   "outputs": [
    {
     "data": {
      "text/plain": [
       "'abcd'"
      ]
     },
     "execution_count": 65,
     "metadata": {},
     "output_type": "execute_result"
    }
   ],
   "source": [
    "\"\".join(h) #it combines"
   ]
  },
  {
   "cell_type": "code",
   "execution_count": 78,
   "metadata": {},
   "outputs": [
    {
     "name": "stdout",
     "output_type": "stream",
     "text": [
      "aba is a palindrom\n"
     ]
    }
   ],
   "source": [
    "# is palindrom?\n",
    "\n",
    "a = input(\"Write a word or sentence\").lower()\n",
    "\n",
    "if a.isalpha():\n",
    " \n",
    "    if a == a[::-1]:\n",
    "       print(f\"{a} is a palindrom\")\n",
    "    else:\n",
    "        print(f\"{a} is not palindrom\")\n",
    "else:\n",
    "   print(\"Please use only words\")"
   ]
  },
  {
   "cell_type": "code",
   "execution_count": 179,
   "metadata": {},
   "outputs": [
    {
     "name": "stdout",
     "output_type": "stream",
     "text": [
      "27 is not a prime number\n"
     ]
    }
   ],
   "source": [
    "# prime numbers\n",
    "\n",
    "y = int(input(\"Enter a number greater than 1\"))\n",
    "\n",
    "\n",
    "if y > 1:\n",
    "\n",
    "    for i in range(2,y):\n",
    "        if y % i == 0:\n",
    "            result = f\"{y} is not a prime number\"\n",
    "            break\n",
    "        else:\n",
    "            result = f\"{y} is a prime number\"\n",
    "else:\n",
    "    result =\"Number must be greater then 1\"\n",
    "\n",
    "print(result)"
   ]
  },
  {
   "cell_type": "code",
   "execution_count": 194,
   "metadata": {},
   "outputs": [
    {
     "name": "stdout",
     "output_type": "stream",
     "text": [
      "23 is a prime number\n"
     ]
    }
   ],
   "source": [
    "# prime numbers - 2nd way\n",
    "k = int(input(\"Enter a number\"))\n",
    "\n",
    "if k > 1:\n",
    "    count1 =0\n",
    "    for i in range(2,k):\n",
    "        if k % i ==0:\n",
    "            count1+=1\n",
    "    if count1 ==0:\n",
    "        print(k,\"is a prime number\")\n",
    "    else:\n",
    "        print(k,\"is not a prime number\")\n",
    "else:\n",
    "    print(\"Number must be greater than 1\")"
   ]
  },
  {
   "cell_type": "code",
   "execution_count": 162,
   "metadata": {},
   "outputs": [
    {
     "data": {
      "text/plain": [
       "True"
      ]
     },
     "execution_count": 162,
     "metadata": {},
     "output_type": "execute_result"
    }
   ],
   "source": [
    "#shortcut of finding prime number\n",
    "import sympy\n",
    "sympy.isprime(5)"
   ]
  },
  {
   "cell_type": "code",
   "execution_count": 166,
   "metadata": {},
   "outputs": [],
   "source": [
    "from math import sqrt\n"
   ]
  },
  {
   "cell_type": "code",
   "execution_count": 167,
   "metadata": {},
   "outputs": [
    {
     "data": {
      "text/plain": [
       "2.0"
      ]
     },
     "execution_count": 167,
     "metadata": {},
     "output_type": "execute_result"
    }
   ],
   "source": [
    "sqrt(4)"
   ]
  },
  {
   "cell_type": "code",
   "execution_count": 202,
   "metadata": {},
   "outputs": [
    {
     "name": "stdout",
     "output_type": "stream",
     "text": [
      "2\n"
     ]
    }
   ],
   "source": [
    "# greatest common divisor\n",
    "num1 = int(input(\"Enter first number\"))\n",
    "num2 = int(input(\"Enter second number\"))\n",
    "\n",
    "i = 1\n",
    "\n",
    "while (i<=num1 and i <= num2):\n",
    "    if num1 % i == 0 and num2 % i ==0:\n",
    "        great_divisor = i\n",
    "    i += 1\n",
    "print(great_divisor)"
   ]
  },
  {
   "cell_type": "code",
   "execution_count": 205,
   "metadata": {},
   "outputs": [
    {
     "name": "stdout",
     "output_type": "stream",
     "text": [
      "12\n"
     ]
    }
   ],
   "source": [
    "#(lcm )lowest common multiple lcm = a*b/gcd\n",
    "\n",
    "num1 = int(input(\"Enter first number\"))\n",
    "num2 = int(input(\"Enter second number\"))\n",
    "\n",
    "i = 1\n",
    "\n",
    "while (i<=num1 and i <= num2):\n",
    "    if num1 % i == 0 and num2 % i ==0:\n",
    "        great_divisor = i\n",
    "    i += 1\n",
    "        \n",
    "print((num1*num2)//great_divisor)"
   ]
  },
  {
   "cell_type": "code",
   "execution_count": 209,
   "metadata": {},
   "outputs": [
    {
     "name": "stdout",
     "output_type": "stream",
     "text": [
      "['c', 'j', 's', 'b', 'd', 'c', 'b', 'd', 'f', 'w', 's', 'f']\n"
     ]
    }
   ],
   "source": [
    "# find the numbers of alphabetic characters\n",
    "\n",
    "sentence = input(\"Write a sentence\")\n",
    "\n",
    "my_list =[]\n",
    "for i in sentence:\n",
    "    if i.isalpha():\n",
    "        my_list.append(i)\n",
    "\n",
    "\n",
    "# print(my_list)"
   ]
  },
  {
   "cell_type": "code",
   "execution_count": 214,
   "metadata": {},
   "outputs": [],
   "source": [
    "#current time calculation\n",
    "import datetime"
   ]
  },
  {
   "cell_type": "code",
   "execution_count": 227,
   "metadata": {},
   "outputs": [
    {
     "name": "stdout",
     "output_type": "stream",
     "text": [
      "2023-03-21 22:43:25.163948\n"
     ]
    }
   ],
   "source": [
    "print(datetime.datetime.now())"
   ]
  },
  {
   "cell_type": "code",
   "execution_count": 228,
   "metadata": {},
   "outputs": [
    {
     "name": "stdout",
     "output_type": "stream",
     "text": [
      "ila kilec\n"
     ]
    }
   ],
   "source": [
    "#reverse name, surname\n",
    "name = input(\"Your name\")\n",
    "s_name = input(\"Your surname\")\n",
    "\n",
    "x = name[::-1]\n",
    "y = s_name[::-1]\n",
    "print(x,y)"
   ]
  },
  {
   "cell_type": "code",
   "execution_count": 233,
   "metadata": {},
   "outputs": [
    {
     "data": {
      "text/plain": [
       "3"
      ]
     },
     "execution_count": 233,
     "metadata": {},
     "output_type": "execute_result"
    }
   ],
   "source": [
    "len(x)"
   ]
  },
  {
   "cell_type": "code",
   "execution_count": 245,
   "metadata": {},
   "outputs": [
    {
     "data": {
      "text/plain": [
       "{'l': 1, 'h': 1, 'L': 1, 'E': 1, 'O': 1}"
      ]
     },
     "execution_count": 245,
     "metadata": {},
     "output_type": "execute_result"
    }
   ],
   "source": [
    "#frequency of the words\n",
    "def char_count(string):\n",
    "    freq = {}\n",
    "    for i in set(string):\n",
    "        freq[i] = string.count(i)\n",
    "    return freq\n",
    "\n",
    "char_count(\"hELlO\")"
   ]
  },
  {
   "cell_type": "code",
   "execution_count": 255,
   "metadata": {},
   "outputs": [
    {
     "name": "stdout",
     "output_type": "stream",
     "text": [
      "{'C': 1, 'a': 2, 'l': 1, 'i': 1, 'u': 1, 'm': 1}\n"
     ]
    }
   ],
   "source": [
    "# frequency by getting input\n",
    "sentence = input(\"Enter a sentence\")\n",
    "\n",
    "freq_1 = {}\n",
    "for i in set(sentence):\n",
    "    freq_1[i] = sentence.count(i)\n",
    "print(freq_1)"
   ]
  },
  {
   "cell_type": "code",
   "execution_count": 241,
   "metadata": {},
   "outputs": [
    {
     "name": "stdout",
     "output_type": "stream",
     "text": [
      "Counter({'s': 2, ' ': 2, 'e': 2, 'c': 1, 'a': 1, 't': 1, 'o': 1, 'n': 1, 'w': 1, 'h': 1, 'l': 1})\n"
     ]
    }
   ],
   "source": [
    "#shortcut\n",
    "from collections import Counter\n",
    "print(Counter('cats on wheels'))"
   ]
  },
  {
   "cell_type": "code",
   "execution_count": 16,
   "metadata": {},
   "outputs": [],
   "source": [
    "#given 2 arrays returns the same elements\n",
    "\n",
    "def intertwined(list_a, list_b):\n",
    "\n",
    "    new_list = []\n",
    "    for i in list_a:\n",
    "        for j in list_b:\n",
    "            if i in j and i not in new_list:\n",
    "                new_list.append(i)\n",
    "    return new_list"
   ]
  },
  {
   "cell_type": "code",
   "execution_count": 18,
   "metadata": {},
   "outputs": [
    {
     "data": {
      "text/plain": [
       "['a', 'b']"
      ]
     },
     "execution_count": 18,
     "metadata": {},
     "output_type": "execute_result"
    }
   ],
   "source": [
    "intertwined([\"a\", \"b\" ,\"c\"],[\"e\", \"a\" , \"d\", \"b\"])"
   ]
  },
  {
   "cell_type": "code",
   "execution_count": 26,
   "metadata": {},
   "outputs": [
    {
     "data": {
      "text/plain": [
       "['l', 'm', 'k']"
      ]
     },
     "execution_count": 26,
     "metadata": {},
     "output_type": "execute_result"
    }
   ],
   "source": [
    "# list comprehension func method\n",
    "def intertwined_2(list_x, list_y):\n",
    "    return list(set([i for i in list_x for j in list_y]))\n",
    "\n",
    "intertwined_2([\"k\",\"l\", \"m\"], [\"a\", \"c\",\"l\"])"
   ]
  },
  {
   "cell_type": "code",
   "execution_count": 53,
   "metadata": {},
   "outputs": [
    {
     "data": {
      "text/plain": [
       "[1, 3, 5, 7, 9, 2, 4, 6, 8]"
      ]
     },
     "execution_count": 53,
     "metadata": {},
     "output_type": "execute_result"
    }
   ],
   "source": [
    "# create an algorithm that keeps odd numbers sequentially and the even numbers in their original positions in given array\n",
    "\n",
    "def asc(list_asc):\n",
    "    odd = [i for i in list_asc if i % 2]\n",
    "    odd = sorted(odd)\n",
    "\n",
    "    even = [i for i in list_asc if i % 2==0]\n",
    "\n",
    "    \n",
    "    return odd + even\n",
    "\n",
    "\n",
    "\n",
    "    \n",
    "asc([9,2,7,4,5,6,3,8,1])"
   ]
  },
  {
   "cell_type": "code",
   "execution_count": 49,
   "metadata": {},
   "outputs": [
    {
     "data": {
      "text/plain": [
       "[1, 2, 3, 4, 5, 6, 7, 8, 9]"
      ]
     },
     "execution_count": 49,
     "metadata": {},
     "output_type": "execute_result"
    }
   ],
   "source": [
    "# Different solution, in order\n",
    "\n",
    "def asc_1(list_asc1):\n",
    "    odd1 = [i for i in list_asc1 if i % 2]\n",
    "    odd1 = sorted(odd1)\n",
    "\n",
    "\n",
    "    k = 0\n",
    "    result =[]\n",
    "    for i in list_asc1:\n",
    "        if i % 2:\n",
    "            result.append(odd1[k])\n",
    "            k += 1\n",
    "        else:\n",
    "            result.append(i)\n",
    "    return result\n",
    "\n",
    "asc_1([9,2,7,4,5,6,3,8,1])"
   ]
  },
  {
   "cell_type": "code",
   "execution_count": 67,
   "metadata": {},
   "outputs": [
    {
     "name": "stdout",
     "output_type": "stream",
     "text": [
      "[3, 2, 1]\n",
      "[13, 11, 9, 5]\n"
     ]
    }
   ],
   "source": [
    "# create an algorithm that prints numbers greater than the next number\n",
    "list2 = [3,13,11,2,1,9,5]\n",
    "\n",
    "my_list =[]\n",
    "for i in range(0,len(list2)):\n",
    "    if list2[i] < max(list2[i:]):\n",
    "        my_list.append(list2[i])\n",
    "print(my_list)\n",
    "other = [i for i in list2 if i not in my_list]\n",
    "print(other)"
   ]
  },
  {
   "cell_type": "code",
   "execution_count": 62,
   "metadata": {},
   "outputs": [
    {
     "data": {
      "text/plain": [
       "[13, 11, 9, 5, 3, 2, 1]"
      ]
     },
     "execution_count": 62,
     "metadata": {},
     "output_type": "execute_result"
    }
   ],
   "source": [
    "list1 = [3,13,11,2,1,9,5]\n",
    "list1.sort(reverse=1) \n",
    "list1"
   ]
  },
  {
   "cell_type": "markdown",
   "metadata": {},
   "source": []
  },
  {
   "cell_type": "code",
   "execution_count": null,
   "metadata": {},
   "outputs": [],
   "source": []
  },
  {
   "cell_type": "code",
   "execution_count": null,
   "metadata": {},
   "outputs": [],
   "source": []
  }
 ],
 "metadata": {
  "kernelspec": {
   "display_name": "Python 3",
   "language": "python",
   "name": "python3"
  },
  "language_info": {
   "codemirror_mode": {
    "name": "ipython",
    "version": 3
   },
   "file_extension": ".py",
   "mimetype": "text/x-python",
   "name": "python",
   "nbconvert_exporter": "python",
   "pygments_lexer": "ipython3",
   "version": "3.11.2"
  },
  "orig_nbformat": 4,
  "vscode": {
   "interpreter": {
    "hash": "b52f0326c461c572921985537a28c1464d6f232a21b63d1eb118623ecdbf8940"
   }
  }
 },
 "nbformat": 4,
 "nbformat_minor": 2
}
