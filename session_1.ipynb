{
 "cells": [
  {
   "attachments": {},
   "cell_type": "markdown",
   "metadata": {},
   "source": [
    "### SESSION 1 - INTRODUCTION"
   ]
  },
  {
   "cell_type": "code",
   "execution_count": 35,
   "metadata": {},
   "outputs": [
    {
     "data": {
      "text/plain": [
       "8"
      ]
     },
     "execution_count": 35,
     "metadata": {},
     "output_type": "execute_result"
    }
   ],
   "source": [
    "3+5"
   ]
  },
  {
   "attachments": {},
   "cell_type": "markdown",
   "metadata": {},
   "source": [
    "## Printing"
   ]
  },
  {
   "cell_type": "code",
   "execution_count": 36,
   "metadata": {},
   "outputs": [
    {
     "name": "stdout",
     "output_type": "stream",
     "text": [
      "Hello World\n",
      "Wonderland\n",
      "11\n",
      "I am a 'ghost'\n",
      "You are a \"ghost\"\n",
      "Phyton is an awesome programming language\n"
     ]
    }
   ],
   "source": [
    "print(\"Hello World\") #case sensitive\n",
    "print('Wonderland')\n",
    "print(5+6)\n",
    "print(\"I am a 'ghost'\")\n",
    "print('You are a \"ghost\"')\n",
    "print('''Phyton is an awesome programming language''')\n"
   ]
  },
  {
   "cell_type": "code",
   "execution_count": 37,
   "metadata": {},
   "outputs": [
    {
     "data": {
      "text/plain": [
       "'Phyton is an awesome programming language'"
      ]
     },
     "execution_count": 37,
     "metadata": {},
     "output_type": "execute_result"
    }
   ],
   "source": [
    "('''Phyton is an awesome programming language''')"
   ]
  },
  {
   "cell_type": "code",
   "execution_count": 38,
   "metadata": {},
   "outputs": [
    {
     "data": {
      "text/plain": [
       "25"
      ]
     },
     "execution_count": 38,
     "metadata": {},
     "output_type": "execute_result"
    }
   ],
   "source": [
    "a=5\n",
    "b=20\n",
    "a+b"
   ]
  },
  {
   "cell_type": "code",
   "execution_count": 44,
   "metadata": {},
   "outputs": [
    {
     "name": "stdout",
     "output_type": "stream",
     "text": [
      "38 Kayseri\n",
      "16 Bursa\n"
     ]
    }
   ],
   "source": [
    "a = 38\n",
    "b = \"Kayseri\"\n",
    "print(a ,b)\n",
    "c= 16\n",
    "d= \"Bursa\"\n",
    "# del c, it deletes that variable!\n",
    "print(c,d)"
   ]
  },
  {
   "cell_type": "code",
   "execution_count": 45,
   "metadata": {},
   "outputs": [
    {
     "name": "stdout",
     "output_type": "stream",
     "text": [
      "11\n"
     ]
    }
   ],
   "source": [
    "x,y,z = 3,4,5\n",
    "print(x*z-y)"
   ]
  },
  {
   "cell_type": "code",
   "execution_count": 47,
   "metadata": {},
   "outputs": [
    {
     "name": "stdout",
     "output_type": "stream",
     "text": [
      "You \n",
      "will\n",
      "never\n",
      "walk \n",
      "alone\n"
     ]
    }
   ],
   "source": [
    "print('''You \n",
    "will\n",
    "never\n",
    "walk \n",
    "alone''')"
   ]
  },
  {
   "cell_type": "code",
   "execution_count": 54,
   "metadata": {},
   "outputs": [
    {
     "data": {
      "text/plain": [
       "2"
      ]
     },
     "execution_count": 54,
     "metadata": {},
     "output_type": "execute_result"
    }
   ],
   "source": [
    "str(4)\n",
    "#it changes into string\n"
   ]
  },
  {
   "cell_type": "code",
   "execution_count": 56,
   "metadata": {},
   "outputs": [
    {
     "data": {
      "text/plain": [
       "2"
      ]
     },
     "execution_count": 56,
     "metadata": {},
     "output_type": "execute_result"
    }
   ],
   "source": [
    "int(5*0.4)\n",
    "#it turns into an integer"
   ]
  },
  {
   "cell_type": "code",
   "execution_count": 61,
   "metadata": {},
   "outputs": [
    {
     "data": {
      "text/plain": [
       "5.5"
      ]
     },
     "execution_count": 61,
     "metadata": {},
     "output_type": "execute_result"
    }
   ],
   "source": [
    "a = '5.5'\n",
    "float(a)"
   ]
  },
  {
   "cell_type": "code",
   "execution_count": 67,
   "metadata": {},
   "outputs": [
    {
     "name": "stdout",
     "output_type": "stream",
     "text": [
      "Hello World!\n",
      "<class 'str'>\n",
      "100\n",
      "<class 'int'>\n"
     ]
    }
   ],
   "source": [
    "greeting = 'Hello World!'\n",
    "numbers = 4*25\n",
    "print(greeting)\n",
    "\n",
    "print(type(greeting))\n",
    "\n",
    "print(numbers)\n",
    "print(type(numbers))"
   ]
  },
  {
   "cell_type": "code",
   "execution_count": 75,
   "metadata": {},
   "outputs": [
    {
     "name": "stdout",
     "output_type": "stream",
     "text": [
      "Phyton Programming Language\n"
     ]
    }
   ],
   "source": [
    "print('Phyton', 'Programming','Language')"
   ]
  },
  {
   "cell_type": "code",
   "execution_count": 81,
   "metadata": {},
   "outputs": [
    {
     "name": "stdout",
     "output_type": "stream",
     "text": [
      "Ironman\n",
      "Old farmer\n",
      "Allright\n"
     ]
    }
   ],
   "source": [
    "print(\"Iron\" + \"man\")\n",
    "print(\"Old\"+\" \"+\"farmer\")\n",
    "print(\"All\" \"right\")"
   ]
  },
  {
   "cell_type": "code",
   "execution_count": 88,
   "metadata": {},
   "outputs": [
    {
     "data": {
      "text/plain": [
       "21"
      ]
     },
     "execution_count": 88,
     "metadata": {},
     "output_type": "execute_result"
    }
   ],
   "source": [
    "a = \"Computer Science\"\n",
    "b = \"Class\"\n",
    "len(a) + len(b)\n",
    "\n"
   ]
  },
  {
   "cell_type": "code",
   "execution_count": 90,
   "metadata": {},
   "outputs": [
    {
     "data": {
      "text/plain": [
       "4"
      ]
     },
     "execution_count": 90,
     "metadata": {},
     "output_type": "execute_result"
    }
   ],
   "source": [
    "len(\"5*20\")\n",
    "#len is not interested in maths, it just counts the characters"
   ]
  },
  {
   "cell_type": "code",
   "execution_count": 97,
   "metadata": {},
   "outputs": [
    {
     "name": "stdout",
     "output_type": "stream",
     "text": [
      "January\tFabruary\n",
      "New York\n",
      "Utah\n",
      "L i n u x\n"
     ]
    }
   ],
   "source": [
    "print(\"January\\tFabruary\")\n",
    "print(\"New York\\nUtah\")\n",
    "print(*\"Linux\")"
   ]
  },
  {
   "cell_type": "code",
   "execution_count": 105,
   "metadata": {},
   "outputs": [
    {
     "name": "stdout",
     "output_type": "stream",
     "text": [
      "Paris---London---Berlin\n",
      "Germany France UK\n"
     ]
    }
   ],
   "source": [
    "print(\"Paris\",\"London\",\"Berlin\", sep=\"---\")\n",
    "print(\"Germany\", \"France\", \"UK\", sep=\" \")"
   ]
  },
  {
   "cell_type": "code",
   "execution_count": 114,
   "metadata": {},
   "outputs": [
    {
     "name": "stdout",
     "output_type": "stream",
     "text": [
      "Today is Sunday !"
     ]
    }
   ],
   "source": [
    "print(\"Today is Sunday\", end=\" !\")\n"
   ]
  },
  {
   "cell_type": "code",
   "execution_count": 120,
   "metadata": {},
   "outputs": [
    {
     "name": "stdout",
     "output_type": "stream",
     "text": [
      "M.A.T.R.I.X\n"
     ]
    }
   ],
   "source": [
    "print(*\"MATRIX\" ,sep=\".\")"
   ]
  },
  {
   "cell_type": "code",
   "execution_count": 129,
   "metadata": {},
   "outputs": [
    {
     "name": "stdout",
     "output_type": "stream",
     "text": [
      "M\n",
      "A\n",
      "T\n",
      "R\n",
      "I\n",
      "X\n"
     ]
    }
   ],
   "source": [
    "print(*\"MATRIX\",sep=\"\\n\")  "
   ]
  },
  {
   "cell_type": "code",
   "execution_count": 136,
   "metadata": {},
   "outputs": [
    {
     "name": "stdout",
     "output_type": "stream",
     "text": [
      "Reverse of your name is:  nittesmeŞ\n",
      "Şme\n",
      "mtn\n"
     ]
    }
   ],
   "source": [
    "name = input(\"Your name: \")\n",
    "print(\"Reverse of your name is: \", name[::-1])\n",
    "print(name[:5:2])\n",
    "print(name[2:10:3])"
   ]
  },
  {
   "cell_type": "code",
   "execution_count": 137,
   "metadata": {},
   "outputs": [
    {
     "name": "stdout",
     "output_type": "stream",
     "text": [
      "5+10 is 15.\n"
     ]
    }
   ],
   "source": [
    "a=5\n",
    "b=10\n",
    "print(\"{}+{} is {}.\".format(a,b,a+b))"
   ]
  },
  {
   "cell_type": "code",
   "execution_count": 138,
   "metadata": {},
   "outputs": [
    {
     "name": "stdout",
     "output_type": "stream",
     "text": [
      "5+10-12 is 3.\n"
     ]
    }
   ],
   "source": [
    "a=5\n",
    "b=10\n",
    "c=12\n",
    "print(\"{}+{}-{} is {}.\".format(a,b,c,a+b-c))"
   ]
  },
  {
   "cell_type": "code",
   "execution_count": 143,
   "metadata": {},
   "outputs": [
    {
     "data": {
      "text/plain": [
       "'John and Melinda are best friends'"
      ]
     },
     "execution_count": 143,
     "metadata": {},
     "output_type": "execute_result"
    }
   ],
   "source": [
    "j=\"John\"\n",
    "m=\"Melinda\"\n",
    "a= \"{} and {} are best friends\"\n",
    "a.format(j,m)"
   ]
  },
  {
   "cell_type": "code",
   "execution_count": 144,
   "metadata": {},
   "outputs": [
    {
     "data": {
      "text/plain": [
       "'Harvey and James are best friends'"
      ]
     },
     "execution_count": 144,
     "metadata": {},
     "output_type": "execute_result"
    }
   ],
   "source": [
    "a= \"{1} and {0} are best friends\"\n",
    "a.format(\"James\",\"Harvey\")"
   ]
  }
 ],
 "metadata": {
  "kernelspec": {
   "display_name": "Python 3",
   "language": "python",
   "name": "python3"
  },
  "language_info": {
   "codemirror_mode": {
    "name": "ipython",
    "version": 3
   },
   "file_extension": ".py",
   "mimetype": "text/x-python",
   "name": "python",
   "nbconvert_exporter": "python",
   "pygments_lexer": "ipython3",
   "version": "3.11.2"
  },
  "orig_nbformat": 4,
  "vscode": {
   "interpreter": {
    "hash": "b52f0326c461c572921985537a28c1464d6f232a21b63d1eb118623ecdbf8940"
   }
  }
 },
 "nbformat": 4,
 "nbformat_minor": 2
}
